{
 "cells": [
  {
   "cell_type": "code",
   "id": "693f45b6",
   "metadata": {
    "ExecuteTime": {
     "end_time": "2024-08-14T10:30:29.581163Z",
     "start_time": "2024-08-14T10:30:29.572924Z"
    }
   },
   "source": [
    "import json\n",
    "from os import listdir\n",
    "\n",
    "DATASETS = [\"Data_1\", \"Data_2\"]\n",
    "SCENARIOS = [\"Ulds_scenario_1\", \"Ulds_scenario_2a\", \"Ulds_scenario_2b\"]\n",
    "PATH_ASSESSMENT_CRITERIA_NEW  = \"./01_masterdata/2_approaches/AssesmentCriteria.json\""
   ],
   "outputs": [],
   "execution_count": 1
  },
  {
   "cell_type": "code",
   "id": "36cfc350",
   "metadata": {
    "ExecuteTime": {
     "end_time": "2024-08-14T10:30:30.051821Z",
     "start_time": "2024-08-14T10:30:30.048115Z"
    }
   },
   "source": [
    "def readJson(filePathImport):\n",
    "    #Read file in\n",
    "    with open(filePathImport) as json_file:\n",
    "        job_json = json.load(json_file)\n",
    "        return job_json"
   ],
   "outputs": [],
   "execution_count": 2
  },
  {
   "cell_type": "code",
   "id": "21596581",
   "metadata": {
    "ExecuteTime": {
     "end_time": "2024-08-14T10:30:30.306394Z",
     "start_time": "2024-08-14T10:30:30.302702Z"
    }
   },
   "source": [
    "def writeJson(filePathExport, jsonFile):\n",
    "    with open(filePathExport, 'w', encoding='utf-8') as f:\n",
    "        json.dump(jsonFile, f, ensure_ascii=False, indent=4)"
   ],
   "outputs": [],
   "execution_count": 3
  },
  {
   "cell_type": "code",
   "id": "93f650ba",
   "metadata": {
    "ExecuteTime": {
     "end_time": "2024-08-14T10:30:30.619503Z",
     "start_time": "2024-08-14T10:30:30.615053Z"
    }
   },
   "source": [
    "def addAssessmentForJob(filePath, assesmentCriteria):\n",
    "    try:\n",
    "        job = readJson(filePath)\n",
    "        job['assessmentCriteria'] = assesmentCriteria\n",
    "          \n",
    "    except:\n",
    "        print(\"Could not read file! \" + filePath)\n",
    "        return\n",
    "    \n",
    "    writeJson(filePath, job)"
   ],
   "outputs": [],
   "execution_count": 4
  },
  {
   "cell_type": "code",
   "id": "cb8443d9",
   "metadata": {
    "ExecuteTime": {
     "end_time": "2024-08-14T10:31:02.631628Z",
     "start_time": "2024-08-14T10:31:02.627753Z"
    }
   },
   "source": [
    "from tqdm import tqdm\n",
    "\n",
    "def execute():\n",
    "    assesmentCriteria = readJson(PATH_ASSESSMENT_CRITERIA_NEW)\n",
    "    \n",
    "    for dataset in DATASETS:\n",
    "        for scenario in SCENARIOS:\n",
    "            path = \"./Data/\" + dataset + \"/2_AeJobs/\" + scenario\n",
    "            for f in tqdm(listdir(path)):\n",
    "                addAssessmentForJob(path + \"/\" + f, assesmentCriteria)"
   ],
   "outputs": [],
   "execution_count": 9
  },
  {
   "cell_type": "code",
   "id": "9fe10fde",
   "metadata": {
    "ExecuteTime": {
     "end_time": "2024-08-14T10:32:22.810718Z",
     "start_time": "2024-08-14T10:31:03.042125Z"
    }
   },
   "source": "execute()",
   "outputs": [
    {
     "name": "stderr",
     "output_type": "stream",
     "text": [
      "100%|██████████| 1301/1301 [00:02<00:00, 456.43it/s]\n",
      "100%|██████████| 1301/1301 [00:02<00:00, 451.27it/s]\n",
      "100%|██████████| 1301/1301 [00:02<00:00, 451.80it/s]\n",
      "100%|██████████| 9689/9689 [00:17<00:00, 567.79it/s]\n",
      "100%|██████████| 9689/9689 [00:32<00:00, 295.54it/s]\n",
      "100%|██████████| 9689/9689 [00:21<00:00, 457.38it/s]\n"
     ]
    }
   ],
   "execution_count": 10
  },
  {
   "metadata": {},
   "cell_type": "code",
   "outputs": [],
   "execution_count": null,
   "source": "",
   "id": "31e17f42da31586f"
  }
 ],
 "metadata": {
  "kernelspec": {
   "display_name": "Python 3 (ipykernel)",
   "language": "python",
   "name": "python3"
  },
  "language_info": {
   "codemirror_mode": {
    "name": "ipython",
    "version": 3
   },
   "file_extension": ".py",
   "mimetype": "text/x-python",
   "name": "python",
   "nbconvert_exporter": "python",
   "pygments_lexer": "ipython3",
   "version": "3.11.2"
  }
 },
 "nbformat": 4,
 "nbformat_minor": 5
}
