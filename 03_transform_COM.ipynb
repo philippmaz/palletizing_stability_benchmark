{
 "cells": [
  {
   "cell_type": "code",
   "id": "bb86b4f0",
   "metadata": {
    "ExecuteTime": {
     "end_time": "2024-08-16T14:29:49.731851Z",
     "start_time": "2024-08-16T14:29:49.727994Z"
    }
   },
   "source": [
    "import json\n",
    "import os\n",
    "import shutil\n",
    "import numpy as np\n",
    "\n",
    "PATH_DATASET_1 = './Data/Data_1/1_AeULDs'\n",
    "PATH_DATASET_2 = './Data/Data_2/1_AeULDs'\n",
    "\n",
    "INPUT_PATH = PATH_DATASET_2\n",
    "\n",
    "#Defines, in which area the com will be located and the distribution will be bounded (along item's dimensions)\n",
    "COM_BOUNDARIES = 0.8\n",
    "INPUT_PATH_ULDS_SCENARIO_1 = INPUT_PATH+\"/Ulds_scenario_1/\"\n",
    "OUTPUT_PATH_NORMAL = INPUT_PATH+\"/Ulds_scenario_2a/\"\n",
    "OUTPUT_PATH_UNIFORM = INPUT_PATH+\"/Ulds_scenario_2b/\"\n",
    "\n",
    "RANDOM_SEED = 1\n",
    "np.random.seed(RANDOM_SEED)\n",
    "os.environ['PYTHONHASHSEED'] = str(RANDOM_SEED)"
   ],
   "outputs": [],
   "execution_count": 12
  },
  {
   "cell_type": "code",
   "id": "077d30ff",
   "metadata": {
    "ExecuteTime": {
     "end_time": "2024-08-16T14:29:49.940619Z",
     "start_time": "2024-08-16T14:29:49.936972Z"
    }
   },
   "source": [
    "def readJson(filePathImport):\n",
    "    #Read file in\n",
    "    with open(filePathImport) as json_file:\n",
    "        job_json = json.load(json_file)\n",
    "        return job_json"
   ],
   "outputs": [],
   "execution_count": 13
  },
  {
   "cell_type": "code",
   "id": "68b35fc7",
   "metadata": {
    "ExecuteTime": {
     "end_time": "2024-08-16T14:29:50.080879Z",
     "start_time": "2024-08-16T14:29:50.076651Z"
    }
   },
   "source": [
    "def writeJson(filePathExport, jsonFile):\n",
    "    with open(filePathExport, 'w', encoding='utf-8') as f:\n",
    "        json.dump(jsonFile, f, ensure_ascii=False, indent=4)"
   ],
   "outputs": [],
   "execution_count": 14
  },
  {
   "cell_type": "code",
   "id": "6dc872a9",
   "metadata": {
    "ExecuteTime": {
     "end_time": "2024-08-16T14:29:50.238286Z",
     "start_time": "2024-08-16T14:29:50.234252Z"
    }
   },
   "source": [
    "def createOutputFolderIfNotExists(path):\n",
    "    isExist = os.path.exists(path)\n",
    "    if isExist:\n",
    "        shutil.rmtree(path)\n",
    "        os.makedirs(path)\n",
    "    if not isExist:\n",
    "       # Create a new directory because it does not exist\n",
    "       os.makedirs(path)\n",
    "       print(\"The new directory is created!\")"
   ],
   "outputs": [],
   "execution_count": 15
  },
  {
   "cell_type": "code",
   "id": "903f5ffc",
   "metadata": {
    "ExecuteTime": {
     "end_time": "2024-08-16T14:29:50.504912Z",
     "start_time": "2024-08-16T14:29:50.500390Z"
    }
   },
   "source": [
    "def transformSingleULD(fileName, mode):\n",
    "    try:\n",
    "        uld = readJson(INPUT_PATH_ULDS_SCENARIO_1 + fileName)\n",
    "    except:\n",
    "        print(\"Could not read file! \" + fileName)\n",
    "        return  \n",
    "    \n",
    "    for item in uld[\"placedItems\"]:\n",
    "        item[\"centerOfMass\"] = createCOM(item, mode)\n",
    "       \n",
    "    if mode == 'NORMAL':\n",
    "        writeJson(OUTPUT_PATH_NORMAL + fileName, uld)\n",
    "    elif mode == 'UNIFORM':\n",
    "        writeJson(OUTPUT_PATH_UNIFORM + fileName, uld)"
   ],
   "outputs": [],
   "execution_count": 16
  },
  {
   "cell_type": "code",
   "id": "dadb263c",
   "metadata": {
    "ExecuteTime": {
     "end_time": "2024-08-16T14:29:50.698679Z",
     "start_time": "2024-08-16T14:29:50.692996Z"
    }
   },
   "source": [
    "def createCOM(item, mode):\n",
    "    if item['shape']['shapeType'] != 'Box':\n",
    "        print(\"No Box provided!\")\n",
    "        return\n",
    "    \n",
    "    if mode == 'NORMAL':\n",
    "        x = getNormalDistributedNumerInBound(item['shape']['width'])\n",
    "        z = getNormalDistributedNumerInBound(item['shape']['depth'])\n",
    "        y = getNormalDistributedNumerInBound(item['shape']['height'])\n",
    "    elif mode == 'UNIFORM':\n",
    "        x = getUniformDistributedNumerInBound(item['shape']['width'])\n",
    "        z = getUniformDistributedNumerInBound(item['shape']['depth'])\n",
    "        y = getUniformDistributedNumerInBound(item['shape']['height'])        \n",
    "    \n",
    "    com = {\n",
    "        'x': x,\n",
    "        'y': y,\n",
    "        'z': z\n",
    "    }\n",
    "    \n",
    "    return com"
   ],
   "outputs": [],
   "execution_count": 17
  },
  {
   "cell_type": "code",
   "id": "75f29204",
   "metadata": {
    "ExecuteTime": {
     "end_time": "2024-08-16T14:29:50.855705Z",
     "start_time": "2024-08-16T14:29:50.852007Z"
    }
   },
   "source": [
    "def getNormalDistributedNumerInBound(upperBound):\n",
    "    upperBound = upperBound * COM_BOUNDARIES\n",
    "    \n",
    "    sigma =  upperBound / 6\n",
    "    n = np.random.normal(loc=0.0, scale=sigma)\n",
    "    if n < -(upperBound / 2):\n",
    "        return -(upperBound / 2)\n",
    "    \n",
    "    if n > upperBound / 2:\n",
    "        return upperBound / 2\n",
    "    \n",
    "    return n"
   ],
   "outputs": [],
   "execution_count": 18
  },
  {
   "cell_type": "code",
   "id": "41dbdd6b",
   "metadata": {
    "ExecuteTime": {
     "end_time": "2024-08-16T14:29:51.272494Z",
     "start_time": "2024-08-16T14:29:51.269053Z"
    }
   },
   "source": [
    "def getUniformDistributedNumerInBound(upperBound):\n",
    "    # clip bounds at 80 %\n",
    "    upperBound = upperBound * COM_BOUNDARIES\n",
    "    n = np.random.uniform(low = -(upperBound / 2), high = (upperBound / 2))\n",
    "    return n"
   ],
   "outputs": [],
   "execution_count": 19
  },
  {
   "cell_type": "code",
   "id": "2466d414",
   "metadata": {
    "ExecuteTime": {
     "end_time": "2024-08-16T14:29:51.869952Z",
     "start_time": "2024-08-16T14:29:51.866135Z"
    }
   },
   "source": [
    "from tqdm import tqdm\n",
    "\n",
    "def transformULDs(scenario):\n",
    "    for f in tqdm(os.listdir(INPUT_PATH_ULDS_SCENARIO_1)):\n",
    "        transformSingleULD(f, scenario)"
   ],
   "outputs": [],
   "execution_count": 20
  },
  {
   "cell_type": "code",
   "id": "1be591a2",
   "metadata": {
    "ExecuteTime": {
     "end_time": "2024-08-16T14:30:06.194262Z",
     "start_time": "2024-08-16T14:29:52.504466Z"
    }
   },
   "source": [
    "createOutputFolderIfNotExists(OUTPUT_PATH_NORMAL)\n",
    "transformULDs('NORMAL')"
   ],
   "outputs": [
    {
     "name": "stdout",
     "output_type": "stream",
     "text": [
      "The new directory is created!\n"
     ]
    },
    {
     "name": "stderr",
     "output_type": "stream",
     "text": [
      "100%|██████████| 9689/9689 [00:13<00:00, 708.72it/s]\n"
     ]
    }
   ],
   "execution_count": 21
  },
  {
   "cell_type": "code",
   "id": "c081dbc9",
   "metadata": {
    "ExecuteTime": {
     "end_time": "2024-08-16T14:30:20.446942Z",
     "start_time": "2024-08-16T14:30:06.196470Z"
    }
   },
   "source": [
    "createOutputFolderIfNotExists(OUTPUT_PATH_UNIFORM)\n",
    "transformULDs('UNIFORM')"
   ],
   "outputs": [
    {
     "name": "stdout",
     "output_type": "stream",
     "text": [
      "The new directory is created!\n"
     ]
    },
    {
     "name": "stderr",
     "output_type": "stream",
     "text": [
      "100%|██████████| 9689/9689 [00:14<00:00, 680.72it/s]\n"
     ]
    }
   ],
   "execution_count": 22
  },
  {
   "metadata": {},
   "cell_type": "code",
   "outputs": [],
   "execution_count": null,
   "source": "",
   "id": "600cebc05f00285a"
  }
 ],
 "metadata": {
  "kernelspec": {
   "display_name": "Python 3 (ipykernel)",
   "language": "python",
   "name": "python3"
  },
  "language_info": {
   "codemirror_mode": {
    "name": "ipython",
    "version": 3
   },
   "file_extension": ".py",
   "mimetype": "text/x-python",
   "name": "python",
   "nbconvert_exporter": "python",
   "pygments_lexer": "ipython3",
   "version": "3.9.16"
  }
 },
 "nbformat": 4,
 "nbformat_minor": 5
}
