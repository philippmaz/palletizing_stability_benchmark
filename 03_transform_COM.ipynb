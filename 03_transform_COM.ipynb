{
 "cells": [
  {
   "cell_type": "code",
   "id": "bb86b4f0",
   "metadata": {
    "ExecuteTime": {
     "end_time": "2024-08-14T10:05:34.600047Z",
     "start_time": "2024-08-14T10:05:34.596293Z"
    }
   },
   "source": [
    "import json\n",
    "import os\n",
    "import shutil\n",
    "import numpy as np\n",
    "\n",
    "PATH_DATASET_1 = './Data/Data_1/1_AeULDs'\n",
    "PATH_DATASET_2 = './Data/Data_2/1_AeULDs'\n",
    "\n",
    "INPUT_PATH = PATH_DATASET_2\n",
    "\n",
    "#Defines, in which area the com will be located and the distribution will be bounded (along item's dimensions)\n",
    "COM_BOUNDARIES = 0.8"
   ],
   "outputs": [],
   "execution_count": 43
  },
  {
   "cell_type": "code",
   "id": "333ddfec",
   "metadata": {
    "ExecuteTime": {
     "end_time": "2024-08-14T10:05:34.769358Z",
     "start_time": "2024-08-14T10:05:34.766295Z"
    }
   },
   "source": [
    "INPUT_PATH_ULDS_SCENARIO_1 = INPUT_PATH+\"/Ulds_scenario_1/\"\n",
    "OUTPUT_PATH_NORMAL = INPUT_PATH+\"/Ulds_scenario_2a/\"\n",
    "OUTPUT_PATH_UNIFORM = INPUT_PATH+\"/Ulds_scenario_2b/\""
   ],
   "outputs": [],
   "execution_count": 44
  },
  {
   "cell_type": "code",
   "id": "077d30ff",
   "metadata": {
    "ExecuteTime": {
     "end_time": "2024-08-14T10:05:34.916146Z",
     "start_time": "2024-08-14T10:05:34.913113Z"
    }
   },
   "source": [
    "def readJson(filePathImport):\n",
    "    #Read file in\n",
    "    with open(filePathImport) as json_file:\n",
    "        job_json = json.load(json_file)\n",
    "        return job_json"
   ],
   "outputs": [],
   "execution_count": 45
  },
  {
   "cell_type": "code",
   "id": "68b35fc7",
   "metadata": {
    "ExecuteTime": {
     "end_time": "2024-08-14T10:05:35.072586Z",
     "start_time": "2024-08-14T10:05:35.068080Z"
    }
   },
   "source": [
    "def writeJson(filePathExport, jsonFile):\n",
    "    with open(filePathExport, 'w', encoding='utf-8') as f:\n",
    "        json.dump(jsonFile, f, ensure_ascii=False, indent=4)"
   ],
   "outputs": [],
   "execution_count": 46
  },
  {
   "cell_type": "code",
   "id": "6dc872a9",
   "metadata": {
    "ExecuteTime": {
     "end_time": "2024-08-14T10:05:35.252011Z",
     "start_time": "2024-08-14T10:05:35.248495Z"
    }
   },
   "source": [
    "def createOutputFolderIfNotExists(path):\n",
    "    isExist = os.path.exists(path)\n",
    "    if isExist:\n",
    "        shutil.rmtree(path)\n",
    "        os.makedirs(path)\n",
    "    if not isExist:\n",
    "       # Create a new directory because it does not exist\n",
    "       os.makedirs(path)\n",
    "       print(\"The new directory is created!\")"
   ],
   "outputs": [],
   "execution_count": 47
  },
  {
   "cell_type": "code",
   "id": "903f5ffc",
   "metadata": {
    "ExecuteTime": {
     "end_time": "2024-08-14T10:05:35.399651Z",
     "start_time": "2024-08-14T10:05:35.394773Z"
    }
   },
   "source": [
    "def transformSingleULD(fileName, mode):\n",
    "    try:\n",
    "        uld = readJson(INPUT_PATH_ULDS_SCENARIO_1 + fileName)\n",
    "    except:\n",
    "        print(\"Could not read file! \" + fileName)\n",
    "        return  \n",
    "    \n",
    "    for item in uld[\"placedItems\"]:\n",
    "        item[\"centerOfMass\"] = createCOM(item, mode)\n",
    "       \n",
    "    if mode == 'NORMAL':\n",
    "        writeJson(OUTPUT_PATH_NORMAL + fileName, uld)\n",
    "    elif mode == 'UNIFORM':\n",
    "        writeJson(OUTPUT_PATH_UNIFORM + fileName, uld)"
   ],
   "outputs": [],
   "execution_count": 48
  },
  {
   "cell_type": "code",
   "id": "dadb263c",
   "metadata": {
    "ExecuteTime": {
     "end_time": "2024-08-14T10:05:36.147601Z",
     "start_time": "2024-08-14T10:05:36.142752Z"
    }
   },
   "source": [
    "def createCOM(item, mode):\n",
    "    if item['shape']['shapeType'] != 'Box':\n",
    "        print(\"No Box provided!\")\n",
    "        return\n",
    "    \n",
    "    if mode == 'NORMAL':\n",
    "        x = getNormalDistributedNumerInBound(item['shape']['width'])\n",
    "        z = getNormalDistributedNumerInBound(item['shape']['depth'])\n",
    "        y = getNormalDistributedNumerInBound(item['shape']['height'])\n",
    "    elif mode == 'UNIFORM':\n",
    "        x = getUniformDistributedNumerInBound(item['shape']['width'])\n",
    "        z = getUniformDistributedNumerInBound(item['shape']['depth'])\n",
    "        y = getUniformDistributedNumerInBound(item['shape']['height'])        \n",
    "    \n",
    "    com = {\n",
    "        'x': x,\n",
    "        'y': y,\n",
    "        'z': z\n",
    "    }\n",
    "    \n",
    "    return com"
   ],
   "outputs": [],
   "execution_count": 49
  },
  {
   "cell_type": "code",
   "id": "75f29204",
   "metadata": {
    "ExecuteTime": {
     "end_time": "2024-08-14T10:05:36.630313Z",
     "start_time": "2024-08-14T10:05:36.624511Z"
    }
   },
   "source": [
    "def getNormalDistributedNumerInBound(upperBound):\n",
    "    upperBound = upperBound * COM_BOUNDARIES\n",
    "    \n",
    "    sigma =  upperBound / 6\n",
    "    n = np.random.normal(loc=0.0, scale=sigma)\n",
    "    if n < -(upperBound / 2):\n",
    "        return -(upperBound / 2)\n",
    "    \n",
    "    if n > upperBound / 2:\n",
    "        return upperBound / 2\n",
    "    \n",
    "    return n"
   ],
   "outputs": [],
   "execution_count": 50
  },
  {
   "cell_type": "code",
   "id": "41dbdd6b",
   "metadata": {
    "ExecuteTime": {
     "end_time": "2024-08-14T10:05:36.777444Z",
     "start_time": "2024-08-14T10:05:36.773443Z"
    }
   },
   "source": [
    "def getUniformDistributedNumerInBound(upperBound):\n",
    "    # clip bounds at 80 %\n",
    "    upperBound = upperBound * COM_BOUNDARIES\n",
    "    n = np.random.uniform(low = -(upperBound / 2), high = (upperBound / 2))\n",
    "    return n"
   ],
   "outputs": [],
   "execution_count": 51
  },
  {
   "cell_type": "code",
   "id": "2466d414",
   "metadata": {
    "ExecuteTime": {
     "end_time": "2024-08-14T10:05:37.161500Z",
     "start_time": "2024-08-14T10:05:37.158065Z"
    }
   },
   "source": [
    "from tqdm import tqdm\n",
    "\n",
    "def transformULDs(scenario):\n",
    "    for f in tqdm(os.listdir(INPUT_PATH_ULDS_SCENARIO_1)):\n",
    "        transformSingleULD(f, scenario)"
   ],
   "outputs": [],
   "execution_count": 52
  },
  {
   "cell_type": "code",
   "id": "1be591a2",
   "metadata": {
    "ExecuteTime": {
     "end_time": "2024-08-14T10:05:49.985746Z",
     "start_time": "2024-08-14T10:05:37.841136Z"
    }
   },
   "source": [
    "createOutputFolderIfNotExists(OUTPUT_PATH_NORMAL)\n",
    "transformULDs('NORMAL')"
   ],
   "outputs": [
    {
     "name": "stdout",
     "output_type": "stream",
     "text": [
      "The new directory is created!\n"
     ]
    },
    {
     "name": "stderr",
     "output_type": "stream",
     "text": [
      "100%|██████████| 9689/9689 [00:12<00:00, 798.90it/s]\n"
     ]
    }
   ],
   "execution_count": 53
  },
  {
   "cell_type": "code",
   "id": "c081dbc9",
   "metadata": {
    "ExecuteTime": {
     "end_time": "2024-08-14T10:06:03.001967Z",
     "start_time": "2024-08-14T10:05:49.988348Z"
    }
   },
   "source": [
    "createOutputFolderIfNotExists(OUTPUT_PATH_UNIFORM)\n",
    "transformULDs('UNIFORM')"
   ],
   "outputs": [
    {
     "name": "stdout",
     "output_type": "stream",
     "text": [
      "The new directory is created!\n"
     ]
    },
    {
     "name": "stderr",
     "output_type": "stream",
     "text": [
      "100%|██████████| 9689/9689 [00:12<00:00, 745.64it/s]\n"
     ]
    }
   ],
   "execution_count": 54
  },
  {
   "metadata": {},
   "cell_type": "code",
   "outputs": [],
   "execution_count": null,
   "source": "",
   "id": "600cebc05f00285a"
  }
 ],
 "metadata": {
  "kernelspec": {
   "display_name": "Python 3 (ipykernel)",
   "language": "python",
   "name": "python3"
  },
  "language_info": {
   "codemirror_mode": {
    "name": "ipython",
    "version": 3
   },
   "file_extension": ".py",
   "mimetype": "text/x-python",
   "name": "python",
   "nbconvert_exporter": "python",
   "pygments_lexer": "ipython3",
   "version": "3.9.16"
  }
 },
 "nbformat": 4,
 "nbformat_minor": 5
}
