{
 "cells": [
  {
   "cell_type": "code",
   "id": "d576a233",
   "metadata": {
    "ExecuteTime": {
     "end_time": "2024-08-14T10:04:16.062304Z",
     "start_time": "2024-08-14T10:04:16.059062Z"
    }
   },
   "source": [
    "import json\n",
    "import os\n",
    "import math\n",
    "\n",
    "PATH_DATASET_1 = './Data/Data_1/1_AeULDs/Ulds_scenario_1/'\n",
    "PATH_DATASET_2 = './Data/Data_2/1_AeULDs/Ulds_scenario_1/'"
   ],
   "outputs": [],
   "execution_count": 12
  },
  {
   "cell_type": "code",
   "id": "a454850d",
   "metadata": {
    "ExecuteTime": {
     "end_time": "2024-08-14T10:04:16.232038Z",
     "start_time": "2024-08-14T10:04:16.228431Z"
    }
   },
   "source": [
    "def readJson(filePathImport):\n",
    "    #Read file in\n",
    "    with open(filePathImport) as json_file:\n",
    "        job_json = json.load(json_file)\n",
    "        return job_json"
   ],
   "outputs": [],
   "execution_count": 13
  },
  {
   "cell_type": "code",
   "id": "aaf5c225",
   "metadata": {
    "ExecuteTime": {
     "end_time": "2024-08-14T10:04:16.409774Z",
     "start_time": "2024-08-14T10:04:16.405830Z"
    }
   },
   "source": [
    "def writeJson(filePathExport, jsonFile):\n",
    "    with open(filePathExport, 'w', encoding='utf-8') as f:\n",
    "        json.dump(jsonFile, f, ensure_ascii=False, indent=4)"
   ],
   "outputs": [],
   "execution_count": 14
  },
  {
   "cell_type": "code",
   "id": "e7547105",
   "metadata": {
    "ExecuteTime": {
     "end_time": "2024-08-14T10:04:16.574584Z",
     "start_time": "2024-08-14T10:04:16.570180Z"
    }
   },
   "source": [
    "def transformSingleULD(fileName, path):\n",
    "    try:\n",
    "        uld = readJson(path + fileName)\n",
    "    except:\n",
    "        print(\"Could not read file! \" +fileName)\n",
    "        print(\"Path : \" + path)\n",
    "        return\n",
    "\n",
    "    \n",
    "    \n",
    "    for item in uld[\"placedItems\"]:        \n",
    "        #Round up item weight to next 10's duplicate\n",
    "        value = item[\"weight\"]\n",
    "        item[\"weight\"] = math.ceil(value / 10) * 10\n",
    "       \n",
    "    writeJson(path + fileName, uld)"
   ],
   "outputs": [],
   "execution_count": 15
  },
  {
   "cell_type": "code",
   "id": "4b5aa2be",
   "metadata": {
    "ExecuteTime": {
     "end_time": "2024-08-14T10:04:16.740005Z",
     "start_time": "2024-08-14T10:04:16.736268Z"
    }
   },
   "source": [
    "from tqdm import tqdm\n",
    "\n",
    "\n",
    "def transformULDs(path):\n",
    "    for f in tqdm(os.listdir(path)):\n",
    "        transformSingleULD(f, path)"
   ],
   "outputs": [],
   "execution_count": 16
  },
  {
   "cell_type": "code",
   "id": "b446100c",
   "metadata": {
    "ExecuteTime": {
     "end_time": "2024-08-14T10:04:19.787035Z",
     "start_time": "2024-08-14T10:04:17.561477Z"
    }
   },
   "source": [
    "transformULDs(PATH_DATASET_1)"
   ],
   "outputs": [
    {
     "name": "stderr",
     "output_type": "stream",
     "text": [
      "100%|██████████| 1301/1301 [00:02<00:00, 586.28it/s]\n"
     ]
    }
   ],
   "execution_count": 17
  },
  {
   "cell_type": "code",
   "id": "da504de0",
   "metadata": {
    "ExecuteTime": {
     "end_time": "2024-08-14T10:04:31.419084Z",
     "start_time": "2024-08-14T10:04:19.789062Z"
    }
   },
   "source": "transformULDs(PATH_DATASET_2)",
   "outputs": [
    {
     "name": "stderr",
     "output_type": "stream",
     "text": [
      "100%|██████████| 9689/9689 [00:11<00:00, 834.45it/s]\n"
     ]
    }
   ],
   "execution_count": 18
  },
  {
   "cell_type": "code",
   "execution_count": null,
   "id": "de2ad031",
   "metadata": {},
   "outputs": [],
   "source": []
  }
 ],
 "metadata": {
  "kernelspec": {
   "display_name": "Python 3 (ipykernel)",
   "language": "python",
   "name": "python3"
  },
  "language_info": {
   "codemirror_mode": {
    "name": "ipython",
    "version": 3
   },
   "file_extension": ".py",
   "mimetype": "text/x-python",
   "name": "python",
   "nbconvert_exporter": "python",
   "pygments_lexer": "ipython3",
   "version": "3.9.16"
  }
 },
 "nbformat": 4,
 "nbformat_minor": 5
}
