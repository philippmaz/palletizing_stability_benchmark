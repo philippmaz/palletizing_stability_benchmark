{
 "cells": [
  {
   "cell_type": "code",
   "id": "d576a233",
   "metadata": {
    "ExecuteTime": {
     "end_time": "2024-08-16T14:27:55.517982Z",
     "start_time": "2024-08-16T14:27:55.510992Z"
    }
   },
   "source": [
    "import json\n",
    "import os\n",
    "import math\n",
    "\n",
    "PATH_DATASET_1 = './Data/Data_1/1_AeULDs/Ulds_scenario_1/'\n",
    "PATH_DATASET_2 = './Data/Data_2/1_AeULDs/Ulds_scenario_1/'"
   ],
   "outputs": [],
   "execution_count": 1
  },
  {
   "cell_type": "code",
   "id": "a454850d",
   "metadata": {
    "ExecuteTime": {
     "end_time": "2024-08-16T14:27:55.522936Z",
     "start_time": "2024-08-16T14:27:55.520197Z"
    }
   },
   "source": [
    "def readJson(filePathImport):\n",
    "    #Read file in\n",
    "    with open(filePathImport) as json_file:\n",
    "        job_json = json.load(json_file)\n",
    "        return job_json"
   ],
   "outputs": [],
   "execution_count": 2
  },
  {
   "cell_type": "code",
   "id": "aaf5c225",
   "metadata": {
    "ExecuteTime": {
     "end_time": "2024-08-16T14:27:55.528265Z",
     "start_time": "2024-08-16T14:27:55.524410Z"
    }
   },
   "source": [
    "def writeJson(filePathExport, jsonFile):\n",
    "    with open(filePathExport, 'w', encoding='utf-8') as f:\n",
    "        json.dump(jsonFile, f, ensure_ascii=False, indent=4)"
   ],
   "outputs": [],
   "execution_count": 3
  },
  {
   "cell_type": "code",
   "id": "e7547105",
   "metadata": {
    "ExecuteTime": {
     "end_time": "2024-08-16T14:27:56.218119Z",
     "start_time": "2024-08-16T14:27:56.213372Z"
    }
   },
   "source": [
    "def transformSingleULD(fileName, path):\n",
    "    try:\n",
    "        uld = readJson(path + fileName)\n",
    "    except:\n",
    "        print(\"Could not read file! \" +fileName)\n",
    "        print(\"Path : \" + path)\n",
    "        return\n",
    "\n",
    "    \n",
    "    \n",
    "    for item in uld[\"placedItems\"]:        \n",
    "        #Round up item weight to next 10's duplicate\n",
    "        value = item[\"weight\"]\n",
    "        item[\"weight\"] = math.ceil(value / 10) * 10\n",
    "       \n",
    "    writeJson(path + fileName, uld)"
   ],
   "outputs": [],
   "execution_count": 4
  },
  {
   "cell_type": "code",
   "id": "4b5aa2be",
   "metadata": {
    "ExecuteTime": {
     "end_time": "2024-08-16T14:27:57.413740Z",
     "start_time": "2024-08-16T14:27:57.398610Z"
    }
   },
   "source": [
    "from tqdm import tqdm\n",
    "\n",
    "\n",
    "def transformULDs(path):\n",
    "    for f in tqdm(os.listdir(path)):\n",
    "        transformSingleULD(f, path)"
   ],
   "outputs": [],
   "execution_count": 5
  },
  {
   "cell_type": "code",
   "id": "b446100c",
   "metadata": {
    "ExecuteTime": {
     "end_time": "2024-08-14T10:04:19.787035Z",
     "start_time": "2024-08-14T10:04:17.561477Z"
    }
   },
   "source": [
    "transformULDs(PATH_DATASET_1)"
   ],
   "outputs": [
    {
     "name": "stderr",
     "output_type": "stream",
     "text": [
      "100%|██████████| 1301/1301 [00:02<00:00, 586.28it/s]\n"
     ]
    }
   ],
   "execution_count": 17
  },
  {
   "cell_type": "code",
   "id": "da504de0",
   "metadata": {
    "ExecuteTime": {
     "end_time": "2024-08-16T14:28:09.970787Z",
     "start_time": "2024-08-16T14:27:59.291711Z"
    }
   },
   "source": "transformULDs(PATH_DATASET_2)",
   "outputs": [
    {
     "name": "stderr",
     "output_type": "stream",
     "text": [
      "100%|██████████| 9689/9689 [00:10<00:00, 910.29it/s] \n"
     ]
    }
   ],
   "execution_count": 6
  },
  {
   "cell_type": "code",
   "execution_count": null,
   "id": "de2ad031",
   "metadata": {},
   "outputs": [],
   "source": []
  }
 ],
 "metadata": {
  "kernelspec": {
   "display_name": "Python 3 (ipykernel)",
   "language": "python",
   "name": "python3"
  },
  "language_info": {
   "codemirror_mode": {
    "name": "ipython",
    "version": 3
   },
   "file_extension": ".py",
   "mimetype": "text/x-python",
   "name": "python",
   "nbconvert_exporter": "python",
   "pygments_lexer": "ipython3",
   "version": "3.9.16"
  }
 },
 "nbformat": 4,
 "nbformat_minor": 5
}
