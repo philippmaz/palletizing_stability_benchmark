{
 "cells": [
  {
   "cell_type": "code",
   "metadata": {
    "pycharm": {
     "name": "#%%\n"
    },
    "ExecuteTime": {
     "end_time": "2024-08-14T10:02:34.502592Z",
     "start_time": "2024-08-14T10:02:34.499138Z"
    }
   },
   "source": [
    "import yaml\n",
    "import json\n",
    "import os\n",
    "\n",
    "# see: https://github.com/fbrandt/ACLPP/blob/master/doc/format.md\n",
    "# Put the yaml files in the input directory (scenario: base)\n",
    "INPUT_PATH = './Data/Data_1/0_Input'\n",
    "OUTPUT_PATH = './Data/Data_1/1_AeULDs/Ulds_scenario_1'"
   ],
   "execution_count": 57,
   "outputs": []
  },
  {
   "cell_type": "code",
   "metadata": {
    "ExecuteTime": {
     "end_time": "2024-08-14T10:02:34.819637Z",
     "start_time": "2024-08-14T10:02:34.815995Z"
    }
   },
   "source": [
    "def createOutputFolderIfNotExists():\n",
    "    isExist = os.path.exists(OUTPUT_PATH)\n",
    "    if not isExist:\n",
    "       # Create a new directory because it does not exist\n",
    "       os.makedirs(OUTPUT_PATH)\n",
    "       print(\"The new directory is created!\")"
   ],
   "execution_count": 58,
   "outputs": []
  },
  {
   "cell_type": "code",
   "metadata": {
    "pycharm": {
     "name": "#%%\n"
    },
    "ExecuteTime": {
     "end_time": "2024-08-14T10:02:35.014336Z",
     "start_time": "2024-08-14T10:02:35.010390Z"
    }
   },
   "source": [
    "def readYaml(filePathImport):\n",
    "    with open(filePathImport, \"r\") as stream:\n",
    "        try:\n",
    "            return yaml.safe_load(stream)\n",
    "        except yaml.YAMLError as exc:\n",
    "            print(exc)"
   ],
   "execution_count": 59,
   "outputs": []
  },
  {
   "cell_type": "code",
   "metadata": {
    "pycharm": {
     "name": "#%%\n"
    },
    "ExecuteTime": {
     "end_time": "2024-08-14T10:02:35.163877Z",
     "start_time": "2024-08-14T10:02:35.160409Z"
    }
   },
   "source": [
    "def readJson(filePathImport):\n",
    "    #Read file in\n",
    "    with open(filePathImport) as json_file:\n",
    "        json_file = json.load(json_file)\n",
    "        return json_file"
   ],
   "execution_count": 60,
   "outputs": []
  },
  {
   "cell_type": "code",
   "metadata": {
    "pycharm": {
     "name": "#%%\n"
    },
    "ExecuteTime": {
     "end_time": "2024-08-14T10:02:35.508819Z",
     "start_time": "2024-08-14T10:02:35.505605Z"
    }
   },
   "source": [
    "def writeJson(filePathExport, jsonFile):\n",
    "    with open(filePathExport, 'w', encoding='utf-8') as f:\n",
    "        json.dump(jsonFile, f, ensure_ascii=False, indent=4)"
   ],
   "execution_count": 61,
   "outputs": []
  },
  {
   "cell_type": "code",
   "metadata": {
    "pycharm": {
     "name": "#%%\n"
    },
    "ExecuteTime": {
     "end_time": "2024-08-14T10:02:35.673125Z",
     "start_time": "2024-08-14T10:02:35.669868Z"
    }
   },
   "source": [
    "def createItemLabels(baseLabel, labelDic):\n",
    "    appendix = 0\n",
    "    if baseLabel in labelDic.keys():\n",
    "        appendix = labelDic[baseLabel] + 1\n",
    "    \n",
    "    labelDic[baseLabel] = appendix\n",
    "    \n",
    "    return baseLabel + \"-\" + str(appendix)"
   ],
   "execution_count": 62,
   "outputs": []
  },
  {
   "cell_type": "code",
   "metadata": {
    "pycharm": {
     "name": "#%%\n"
    },
    "ExecuteTime": {
     "end_time": "2024-08-14T10:02:35.823197Z",
     "start_time": "2024-08-14T10:02:35.818599Z"
    }
   },
   "source": [
    "def getWeightFromShipment(sourceItem, shipments):\n",
    "    shipLabel = sourceItem['shipment']\n",
    "    piece = sourceItem['piece']\n",
    "    if shipLabel in shipments.keys():\n",
    "        if piece in shipments[shipLabel]['pieces'].keys():\n",
    "            return shipments[shipLabel]['pieces'][piece]['weight']"
   ],
   "execution_count": 63,
   "outputs": []
  },
  {
   "cell_type": "code",
   "metadata": {
    "pycharm": {
     "name": "#%%\n"
    },
    "ExecuteTime": {
     "end_time": "2024-08-14T10:02:36.096826Z",
     "start_time": "2024-08-14T10:02:36.091132Z"
    }
   },
   "source": [
    "def getRotationAxes(sourceItem, shipments):\n",
    "    shipLabel = sourceItem['shipment']\n",
    "    piece = sourceItem['piece']\n",
    "    \n",
    "    # rotation axes is unsed\n",
    "    switcher = {\n",
    "        1: \"NONE\",\n",
    "        2: \"X\",\n",
    "        4: \"Y\",\n",
    "        5: \"Y\",\n",
    "        8: \"Z\",\n",
    "        16: \"XZ\",\n",
    "        32: \"YZ\",\n",
    "        63: \"XYZ\",\n",
    "    }\n",
    "    \n",
    "    if shipLabel in shipments.keys():\n",
    "        if piece in shipments[shipLabel]['pieces'].keys():\n",
    "            return switcher.get(shipments[shipLabel]['pieces'][piece]['allowed_rotations'], 'NONE')"
   ],
   "execution_count": 64,
   "outputs": []
  },
  {
   "cell_type": "code",
   "metadata": {
    "pycharm": {
     "name": "#%%\n"
    },
    "ExecuteTime": {
     "end_time": "2024-08-14T10:02:36.229419Z",
     "start_time": "2024-08-14T10:02:36.224946Z"
    }
   },
   "source": [
    "def getLoadCapacity(sourceItem, shipments):\n",
    "    shipLabel = sourceItem['shipment']\n",
    "    piece = sourceItem['piece']\n",
    "    if shipLabel in shipments.keys():\n",
    "        if piece in shipments[shipLabel]['pieces'].keys():\n",
    "            return shipments[shipLabel]['pieces'][piece]['stack_height'] * sourceItem['lat'] * sourceItem['lng'] \n",
    "    "
   ],
   "execution_count": 65,
   "outputs": []
  },
  {
   "cell_type": "code",
   "metadata": {
    "pycharm": {
     "name": "#%%\n"
    },
    "ExecuteTime": {
     "end_time": "2024-08-14T10:02:36.623418Z",
     "start_time": "2024-08-14T10:02:36.617590Z"
    }
   },
   "source": [
    "def enrichItem(sourceItem, item, sequence, labelDic, shipments):\n",
    "    item['itemLabel'] = createItemLabels(sourceItem['piece'], labelDic)\n",
    "    shape = {\n",
    "        'shapeType' : 'Box',\n",
    "        # Lat according to Brandt is the width in our system\n",
    "        'width': sourceItem['lat'],\n",
    "        'height': sourceItem['height'],\n",
    "        'depth': sourceItem['lng'],\n",
    "        'rotationState': 0,\n",
    "        'id': 2025, # unused\n",
    "        'volume': sourceItem['lat'] * sourceItem['height'] * sourceItem['lng']\n",
    "    }\n",
    "    item['shape'] = shape\n",
    "    item['x'] = sourceItem['start_lat']\n",
    "    item['z'] = sourceItem['start_lng']\n",
    "    item['y'] = sourceItem['start_height']\n",
    "    item['shipmentLabel'] = sourceItem['shipment']\n",
    "    \n",
    "    if item['shipmentLabel'] == \"\":\n",
    "        print(item['itemLabel'])\n",
    "        raise(False)\n",
    "    \n",
    "    item['sequence'] = sequence\n",
    "    item['loadCapacity'] = getLoadCapacity(sourceItem, shipments)\n",
    "    item['rotationAxes'] = getRotationAxes(sourceItem, shipments)\n",
    "    item['weight'] = getWeightFromShipment(sourceItem, shipments)\n",
    "    \n",
    "    return item"
   ],
   "execution_count": 66,
   "outputs": []
  },
  {
   "cell_type": "code",
   "metadata": {
    "pycharm": {
     "name": "#%%\n"
    },
    "ExecuteTime": {
     "end_time": "2024-08-14T10:02:36.773772Z",
     "start_time": "2024-08-14T10:02:36.769Z"
    }
   },
   "source": [
    "def readUldProperties(sourceUldType):\n",
    "    mapping = readJson(\"./01_masterdata/0_ulds/mapping_uld_properties.json\")\n",
    "    if sourceUldType in mapping.keys():\n",
    "        uldTypeName = mapping[sourceUldType]\n",
    "        return readJson(\"./01_masterdata/0_ulds/\" + uldTypeName + \".json\") \n",
    "    else:\n",
    "        \n",
    "        sourceUldTypeTrim = sourceUldType[:sourceUldType.rfind(\"_\")]\n",
    "        \n",
    "        if sourceUldTypeTrim in mapping.keys():\n",
    "            uldTypeName = mapping[sourceUldTypeTrim]\n",
    "            return readJson(\"./01_masterdata/0_ulds/\" + uldTypeName + \".json\")\n",
    "        \n",
    "        else:\n",
    "            print(sourceUldType)\n"
   ],
   "execution_count": 67,
   "outputs": []
  },
  {
   "cell_type": "code",
   "metadata": {
    "pycharm": {
     "name": "#%%\n"
    },
    "scrolled": true,
    "ExecuteTime": {
     "end_time": "2024-08-14T10:02:37.179027Z",
     "start_time": "2024-08-14T10:02:37.174324Z"
    }
   },
   "source": [
    "def createULD(sourceUld, labelDic, shipments):\n",
    "    newUld = {\"placedItems\":[], \"id\":1}\n",
    "    newUld[\"properties\"] = readUldProperties(sourceUld[\"uld_type\"])[\"properties\"]\n",
    "    i = 0\n",
    "    for sourceItem in sourceUld['loaded']:\n",
    "        item = readJson('./01_masterdata/1_items/placeholders_placed_item.json')\n",
    "        item = enrichItem(sourceItem, item, i, labelDic, shipments)\n",
    "        i = i + 1\n",
    "        newUld['placedItems'].append(item)\n",
    "    return newUld"
   ],
   "execution_count": 68,
   "outputs": []
  },
  {
   "cell_type": "code",
   "metadata": {
    "pycharm": {
     "name": "#%%\n"
    },
    "ExecuteTime": {
     "end_time": "2024-08-14T10:02:37.594129Z",
     "start_time": "2024-08-14T10:02:37.589577Z"
    }
   },
   "source": [
    "## run through flights\n",
    "def transformFile(sourceFile):\n",
    "    sourceFile = readYaml(sourceFile)\n",
    "    for flightKey, segment in sourceFile['segments'].items():\n",
    "        shipments = segment['shipments']\n",
    "        for uldKey, sourceUld in segment['built_ulds'].items():\n",
    "            path_output_full = OUTPUT_PATH + '/' + flightKey + \"_\" + uldKey + \".json\"\n",
    "            labelDic = {}\n",
    "            newUld = createULD(sourceUld, labelDic, shipments)\n",
    "            writeJson(path_output_full, newUld)"
   ],
   "execution_count": 69,
   "outputs": []
  },
  {
   "cell_type": "code",
   "metadata": {
    "pycharm": {
     "name": "#%%\n"
    },
    "scrolled": true,
    "ExecuteTime": {
     "end_time": "2024-08-14T10:02:56.876303Z",
     "start_time": "2024-08-14T10:02:56.863953Z"
    }
   },
   "source": [
    "from tqdm import tqdm\n",
    "\n",
    "\n",
    "def execute():\n",
    "    createOutputFolderIfNotExists()\n",
    "\n",
    "    for f in tqdm(os.listdir(INPUT_PATH)):\n",
    "        transformFile(INPUT_PATH + \"/\" + f)"
   ],
   "execution_count": 71,
   "outputs": []
  },
  {
   "cell_type": "code",
   "metadata": {
    "ExecuteTime": {
     "end_time": "2024-08-14T10:03:34.462503Z",
     "start_time": "2024-08-14T10:02:57.479183Z"
    }
   },
   "source": [
    "execute()"
   ],
   "execution_count": 72,
   "outputs": []
  },
  {
   "cell_type": "code",
   "execution_count": null,
   "metadata": {},
   "source": [],
   "outputs": []
  }
 ],
 "metadata": {
  "kernelspec": {
   "display_name": "Python 3 (ipykernel)",
   "language": "python",
   "name": "python3"
  },
  "language_info": {
   "codemirror_mode": {
    "name": "ipython",
    "version": 3
   },
   "file_extension": ".py",
   "mimetype": "text/x-python",
   "name": "python",
   "nbconvert_exporter": "python",
   "pygments_lexer": "ipython3",
   "version": "3.9.16"
  }
 },
 "nbformat": 4,
 "nbformat_minor": 4
}
