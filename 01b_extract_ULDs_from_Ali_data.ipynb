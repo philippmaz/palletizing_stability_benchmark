{
 "cells": [
  {
   "cell_type": "code",
   "id": "0ed93fbf",
   "metadata": {
    "ExecuteTime": {
     "end_time": "2024-08-16T14:27:23.737894Z",
     "start_time": "2024-08-16T14:27:23.726210Z"
    }
   },
   "source": [
    "import json\n",
    "import os\n",
    "import pandas\n",
    "import math\n",
    "\n",
    "# Put the txt files (H1-160.txt) in the input directory\n",
    "INPUT_PATH = './Data/Data_2/0_Input/'\n",
    "OUTPUT_PATH = './Data/Data_2/1_AeULDs/Ulds_scenario_1'\n",
    "\n",
    "PATH_TO_MASTERDATA = \"./01_masterdata\"\n",
    "PATH_TO_ULD_Properties = PATH_TO_MASTERDATA + \"/0_ulds/\"\n",
    "PATH_TO_ITEM_PLACEHOLDERS = PATH_TO_MASTERDATA + \"/1_items/placeholders_placed_item.json\""
   ],
   "outputs": [],
   "execution_count": 33
  },
  {
   "cell_type": "code",
   "id": "fc33eaa9",
   "metadata": {
    "ExecuteTime": {
     "end_time": "2024-08-16T14:27:24.160706Z",
     "start_time": "2024-08-16T14:27:24.156824Z"
    }
   },
   "source": [
    "def createOutputFolderIfNotExists():\n",
    "    isExist = os.path.exists(OUTPUT_PATH)\n",
    "    if not isExist:\n",
    "       # Create a new directory because it does not exist\n",
    "       os.makedirs(OUTPUT_PATH)\n",
    "       print(\"The new directory is created!\")"
   ],
   "outputs": [],
   "execution_count": 34
  },
  {
   "cell_type": "code",
   "id": "593e0872",
   "metadata": {
    "ExecuteTime": {
     "end_time": "2024-08-16T14:27:24.338258Z",
     "start_time": "2024-08-16T14:27:24.334450Z"
    }
   },
   "source": [
    "def readText(filePathImport):\n",
    "    try:\n",
    "        return pandas.read_table(filePathImport) \n",
    "    except exc:\n",
    "        print(exc)"
   ],
   "outputs": [],
   "execution_count": 35
  },
  {
   "cell_type": "code",
   "id": "107ebbe5",
   "metadata": {
    "ExecuteTime": {
     "end_time": "2024-08-16T14:27:24.860657Z",
     "start_time": "2024-08-16T14:27:24.856760Z"
    }
   },
   "source": [
    "def readJson(filePathImport):\n",
    "    #Read file in\n",
    "    with open(filePathImport) as json_file:\n",
    "        json_file = json.load(json_file)\n",
    "        return json_file"
   ],
   "outputs": [],
   "execution_count": 36
  },
  {
   "cell_type": "code",
   "id": "2c63deb6",
   "metadata": {
    "ExecuteTime": {
     "end_time": "2024-08-16T14:27:25.798692Z",
     "start_time": "2024-08-16T14:27:25.795231Z"
    }
   },
   "source": [
    "def writeJson(filePathExport, jsonFile):\n",
    "    with open(filePathExport, 'w', encoding='utf-8') as f:\n",
    "        json.dump(jsonFile, f, ensure_ascii=False, indent=4)"
   ],
   "outputs": [],
   "execution_count": 37
  },
  {
   "metadata": {
    "ExecuteTime": {
     "end_time": "2024-08-16T14:27:26.174266Z",
     "start_time": "2024-08-16T14:27:26.170913Z"
    }
   },
   "cell_type": "code",
   "source": [
    "def obtainULDFromType(type):\n",
    "    full_path = PATH_TO_ULD_Properties + \"class_\"+type+\".json\"\n",
    "    json = readJson(full_path)\n",
    "    return json[\"properties\"]"
   ],
   "id": "cd1af93e08615ddb",
   "outputs": [],
   "execution_count": 38
  },
  {
   "cell_type": "code",
   "id": "a05ae6d1",
   "metadata": {
    "ExecuteTime": {
     "end_time": "2024-08-16T14:27:26.509376Z",
     "start_time": "2024-08-16T14:27:26.502275Z"
    }
   },
   "source": [
    "def createULD(uld_id, items):\n",
    "    newUld = {\"placedItems\":[], \"id\":1}\n",
    "    uld_type = uld_id[6]\n",
    "    newUld[\"properties\"] = obtainULDFromType(uld_type)\n",
    "    sequenceCounter = 0\n",
    "    \n",
    "    for item in items:\n",
    "        item_parsed = readJson(PATH_TO_ITEM_PLACEHOLDERS)\n",
    "        \n",
    "        volume = item[2] * item[3] * item[4]\n",
    "\n",
    "        shape = {\n",
    "            'shapeType' : 'Box',\n",
    "            'width': item[4], # length\n",
    "            'height': item[2], # height\n",
    "            'depth': item[3], # width\n",
    "            'rotationState': 0,\n",
    "            'id': 2025,\n",
    "            'volume': volume\n",
    "        }\n",
    "        \n",
    "        item_parsed['shape'] = shape\n",
    "        item_parsed['sequence'] = sequenceCounter\n",
    "        item_parsed['x'] = item[7]\n",
    "        item_parsed['y'] = item[5] # z-axis from Data maps to our y-axis\n",
    "        item_parsed['z'] = item[6]\n",
    "\n",
    "        item_parsed['itemLabel'] = uld_id + \"_\" + str(item_parsed['sequence'])\n",
    "        item_parsed['shipmentLabel'] = uld_id + \"_\" + str(item_parsed['sequence'])\n",
    "        item_parsed['weight'] = round(math.sqrt(volume), 2)\n",
    "        item_parsed['loadCapacity'] = item_parsed['weight']\n",
    "        item_parsed['rotationAxes'] = 'XYZ'\n",
    "    \n",
    "        newUld['placedItems'].append(item_parsed)\n",
    "        sequenceCounter = sequenceCounter + 1\n",
    "\n",
    "    return newUld"
   ],
   "outputs": [],
   "execution_count": 39
  },
  {
   "cell_type": "code",
   "id": "0fe42f5f",
   "metadata": {
    "ExecuteTime": {
     "end_time": "2024-08-16T14:27:27.196789Z",
     "start_time": "2024-08-16T14:27:27.191699Z"
    }
   },
   "source": [
    "def parseULDs(df_grouped):\n",
    "    ulds = {}\n",
    "    for index, row in df_grouped.iterrows():\n",
    "        uld_class = str(index[0])\n",
    "        key = \"Class_\" + str(uld_class) + \"_Instance_\" + str(index[1]) + \"_ULD_\" + str(index[2])\n",
    "        items = []\n",
    "        for i in range(len(row.to_list()[0])):\n",
    "            item = []\n",
    "            for column in row.to_list():\n",
    "                item.append(column[i])\n",
    "            items.append(item)\n",
    "        \n",
    "        ulds[key] = items\n",
    "    return ulds"
   ],
   "outputs": [],
   "execution_count": 40
  },
  {
   "cell_type": "code",
   "id": "9b2045b1",
   "metadata": {
    "ExecuteTime": {
     "end_time": "2024-08-16T14:27:27.820982Z",
     "start_time": "2024-08-16T14:27:27.816770Z"
    }
   },
   "source": [
    "## run through flights\n",
    "def transformFile(sourceFilePath, sourceFile):\n",
    "    df = readText(sourceFilePath)\n",
    "    grouped = df.groupby(['CL.No.', 'IN.No.', 'Bin.No']).agg(list)\n",
    "    \n",
    "    ulds = parseULDs(grouped)\n",
    "\n",
    "    for uld_ID, items in ulds.items():\n",
    "        path_output_full = OUTPUT_PATH + '/' + sourceFile.split('.')[0] + \"_\" + uld_ID + \".json\"\n",
    "        newUld = createULD(uld_ID, items)       \n",
    "        writeJson(path_output_full, newUld)"
   ],
   "outputs": [],
   "execution_count": 41
  },
  {
   "cell_type": "code",
   "id": "f488dc65",
   "metadata": {
    "ExecuteTime": {
     "end_time": "2024-08-16T14:27:28.527447Z",
     "start_time": "2024-08-16T14:27:28.523363Z"
    }
   },
   "source": [
    "from tqdm import tqdm\n",
    "\n",
    "def execute():\n",
    "    createOutputFolderIfNotExists()\n",
    "    for f in tqdm(os.listdir(INPUT_PATH)):\n",
    "        transformFile(INPUT_PATH + \"/\" + f, f)"
   ],
   "outputs": [],
   "execution_count": 42
  },
  {
   "cell_type": "code",
   "id": "e20be4c6",
   "metadata": {
    "ExecuteTime": {
     "end_time": "2024-08-16T14:27:47.434890Z",
     "start_time": "2024-08-16T14:27:28.916809Z"
    }
   },
   "source": "execute()",
   "outputs": [
    {
     "name": "stderr",
     "output_type": "stream",
     "text": [
      "100%|██████████| 160/160 [00:18<00:00,  8.64it/s]\n"
     ]
    }
   ],
   "execution_count": 43
  },
  {
   "cell_type": "code",
   "id": "1b14b7bb",
   "metadata": {
    "ExecuteTime": {
     "end_time": "2024-08-14T11:57:42.501981Z",
     "start_time": "2024-08-14T11:57:42.499295Z"
    }
   },
   "source": [],
   "outputs": [],
   "execution_count": 27
  }
 ],
 "metadata": {
  "kernelspec": {
   "display_name": "Python 3 (ipykernel)",
   "language": "python",
   "name": "python3"
  },
  "language_info": {
   "codemirror_mode": {
    "name": "ipython",
    "version": 3
   },
   "file_extension": ".py",
   "mimetype": "text/x-python",
   "name": "python",
   "nbconvert_exporter": "python",
   "pygments_lexer": "ipython3",
   "version": "3.9.16"
  }
 },
 "nbformat": 4,
 "nbformat_minor": 5
}
