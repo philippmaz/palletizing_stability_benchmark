{
 "cells": [
  {
   "cell_type": "code",
   "id": "0ed93fbf",
   "metadata": {
    "ExecuteTime": {
     "end_time": "2024-08-14T10:03:51.209073Z",
     "start_time": "2024-08-14T10:03:51.205965Z"
    }
   },
   "source": [
    "import json\n",
    "import os\n",
    "import pandas\n",
    "import math\n",
    "\n",
    "# Put the txt files (H1-160.txt) in the input directory\n",
    "INPUT_PATH = './Data/Data_2/0_Input/'\n",
    "OUTPUT_PATH = './Data/Data_2/1_AeULDs/Ulds_scenario_1'"
   ],
   "outputs": [],
   "execution_count": 52
  },
  {
   "cell_type": "code",
   "id": "fc33eaa9",
   "metadata": {
    "ExecuteTime": {
     "end_time": "2024-08-14T10:03:51.394484Z",
     "start_time": "2024-08-14T10:03:51.390990Z"
    }
   },
   "source": [
    "def createOutputFolderIfNotExists():\n",
    "    isExist = os.path.exists(OUTPUT_PATH)\n",
    "    if not isExist:\n",
    "       # Create a new directory because it does not exist\n",
    "       os.makedirs(OUTPUT_PATH)\n",
    "       print(\"The new directory is created!\")"
   ],
   "outputs": [],
   "execution_count": 53
  },
  {
   "cell_type": "code",
   "id": "593e0872",
   "metadata": {
    "ExecuteTime": {
     "end_time": "2024-08-14T10:03:51.559247Z",
     "start_time": "2024-08-14T10:03:51.552905Z"
    }
   },
   "source": [
    "def readText(filePathImport):\n",
    "    try:\n",
    "        return pandas.read_table(filePathImport) \n",
    "    except exc:\n",
    "        print(exc)"
   ],
   "outputs": [],
   "execution_count": 54
  },
  {
   "cell_type": "code",
   "id": "107ebbe5",
   "metadata": {
    "ExecuteTime": {
     "end_time": "2024-08-14T10:03:51.720234Z",
     "start_time": "2024-08-14T10:03:51.716742Z"
    }
   },
   "source": [
    "def readJson(filePathImport):\n",
    "    #Read file in\n",
    "    with open(filePathImport) as json_file:\n",
    "        json_file = json.load(json_file)\n",
    "        return json_file"
   ],
   "outputs": [],
   "execution_count": 55
  },
  {
   "cell_type": "code",
   "id": "2c63deb6",
   "metadata": {
    "ExecuteTime": {
     "end_time": "2024-08-14T10:03:51.887264Z",
     "start_time": "2024-08-14T10:03:51.883384Z"
    }
   },
   "source": [
    "def writeJson(filePathExport, jsonFile):\n",
    "    with open(filePathExport, 'w', encoding='utf-8') as f:\n",
    "        json.dump(jsonFile, f, ensure_ascii=False, indent=4)"
   ],
   "outputs": [],
   "execution_count": 56
  },
  {
   "cell_type": "code",
   "id": "a05ae6d1",
   "metadata": {
    "ExecuteTime": {
     "end_time": "2024-08-14T10:03:52.043811Z",
     "start_time": "2024-08-14T10:03:52.034761Z"
    }
   },
   "source": [
    "def createULD(uld_id, items):\n",
    "    newUld = {\"placedItems\":[], \"id\":1}\n",
    "    #TODO: Put here correct ULD\n",
    "    newUld[\"properties\"] = readJson(\"./01_masterdata/0_ulds/pmc_D.json\")[\"properties\"]\n",
    "    sequenceCounter = 0\n",
    "    \n",
    "    for item in items:\n",
    "        item_parsed = readJson('./01_masterdata/1_items/placeholders_placed_item.json')\n",
    "        \n",
    "        volume = item[2] * item[3] * item[4]\n",
    "\n",
    "        shape = {\n",
    "            'shapeType' : 'Box',\n",
    "            'width': item[2],\n",
    "            'height': item[4],\n",
    "            'depth': item[3],\n",
    "            'rotationState': 0,\n",
    "            'id': 2025,\n",
    "            'volume': volume\n",
    "        }\n",
    "        \n",
    "        item_parsed['shape'] = shape\n",
    "        item_parsed['sequence'] = sequenceCounter\n",
    "        item_parsed['x'] = item[5]\n",
    "        item_parsed['y'] = item[7] # z-axis from Data maps to our y-axis\n",
    "        item_parsed['z'] = item[6]\n",
    "\n",
    "        item_parsed['itemLabel'] = uld_id + \"_\" + str(item_parsed['sequence'])\n",
    "        item_parsed['shipmentLabel'] = uld_id + \"_\" + str(item_parsed['sequence'])\n",
    "        item_parsed['weight'] = round(math.sqrt(volume), 2)\n",
    "        item_parsed['loadCapacity'] = item_parsed['weight']\n",
    "        item_parsed['rotationAxes'] = 'XYZ'\n",
    "    \n",
    "        newUld['placedItems'].append(item_parsed)\n",
    "        sequenceCounter = sequenceCounter + 1\n",
    "\n",
    "    return newUld"
   ],
   "outputs": [],
   "execution_count": 57
  },
  {
   "cell_type": "code",
   "id": "0fe42f5f",
   "metadata": {
    "ExecuteTime": {
     "end_time": "2024-08-14T10:03:52.201847Z",
     "start_time": "2024-08-14T10:03:52.196607Z"
    }
   },
   "source": [
    "def parseULDs(df_grouped):\n",
    "    ulds = {}\n",
    "    for index, row in df_grouped.iterrows():\n",
    "        key = \"Class_\" + str(index[0]) + \"_Instance_\" + str(index[1]) + \"_ULD_\" + str(index[2])\n",
    "        items = []\n",
    "        for i in range(len(row.to_list()[0])):\n",
    "            item = []\n",
    "            for column in row.to_list():\n",
    "                item.append(column[i])\n",
    "            items.append(item)\n",
    "        ulds[key] = items\n",
    "    return ulds"
   ],
   "outputs": [],
   "execution_count": 58
  },
  {
   "cell_type": "code",
   "id": "9b2045b1",
   "metadata": {
    "ExecuteTime": {
     "end_time": "2024-08-14T10:03:52.345136Z",
     "start_time": "2024-08-14T10:03:52.340202Z"
    }
   },
   "source": [
    "## run through flights\n",
    "def transformFile(sourceFilePath, sourceFile):\n",
    "    df = readText(sourceFilePath)\n",
    "    grouped = df.groupby(['CL.No.', 'IN.No.', 'Bin.No']).agg(list)\n",
    "    \n",
    "    ulds = parseULDs(grouped)\n",
    "\n",
    "    for uld_ID, items in ulds.items():\n",
    "        path_output_full = OUTPUT_PATH + '/' + sourceFile.split('.')[0] + \"_\" + uld_ID + \".json\"\n",
    "        newUld = createULD(uld_ID, items)       \n",
    "        writeJson(path_output_full, newUld)"
   ],
   "outputs": [],
   "execution_count": 59
  },
  {
   "cell_type": "code",
   "id": "f488dc65",
   "metadata": {
    "ExecuteTime": {
     "end_time": "2024-08-14T10:03:52.488030Z",
     "start_time": "2024-08-14T10:03:52.484724Z"
    }
   },
   "source": [
    "from tqdm import tqdm\n",
    "\n",
    "\n",
    "def execute():\n",
    "    createOutputFolderIfNotExists()\n",
    "\n",
    "    for f in tqdm(os.listdir(INPUT_PATH)):\n",
    "        transformFile(INPUT_PATH + \"/\" + f, f)"
   ],
   "outputs": [],
   "execution_count": 60
  },
  {
   "cell_type": "code",
   "id": "e20be4c6",
   "metadata": {
    "ExecuteTime": {
     "end_time": "2024-08-14T10:04:13.435938Z",
     "start_time": "2024-08-14T10:03:52.632070Z"
    }
   },
   "source": [
    "execute()"
   ],
   "outputs": [
    {
     "name": "stdout",
     "output_type": "stream",
     "text": [
      "The new directory is created!\n"
     ]
    },
    {
     "name": "stderr",
     "output_type": "stream",
     "text": [
      "100%|██████████| 160/160 [00:20<00:00,  7.69it/s]\n"
     ]
    }
   ],
   "execution_count": 61
  },
  {
   "cell_type": "code",
   "execution_count": null,
   "id": "1b14b7bb",
   "metadata": {},
   "outputs": [],
   "source": []
  }
 ],
 "metadata": {
  "kernelspec": {
   "display_name": "Python 3 (ipykernel)",
   "language": "python",
   "name": "python3"
  },
  "language_info": {
   "codemirror_mode": {
    "name": "ipython",
    "version": 3
   },
   "file_extension": ".py",
   "mimetype": "text/x-python",
   "name": "python",
   "nbconvert_exporter": "python",
   "pygments_lexer": "ipython3",
   "version": "3.9.16"
  }
 },
 "nbformat": 4,
 "nbformat_minor": 5
}
