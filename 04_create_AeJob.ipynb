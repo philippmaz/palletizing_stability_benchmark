{
 "cells": [
  {
   "cell_type": "code",
   "metadata": {
    "ExecuteTime": {
     "end_time": "2024-08-14T10:11:19.938017Z",
     "start_time": "2024-08-14T10:11:19.933906Z"
    }
   },
   "source": [
    "import json\n",
    "import os\n",
    "import shutil\n",
    "\n",
    "DATASET_1 = 'Data_1'\n",
    "DATASET_2 = 'Data_2'\n",
    "\n",
    "CURRENT_DATASET = DATASET_2\n",
    "\n",
    "PATH = './Data/' + CURRENT_DATASET\n",
    "INPUT_PATH = PATH + '/1_AeULDs'\n",
    "OUTPUT_PATH = PATH + '/2_AeJobs'"
   ],
   "outputs": [],
   "execution_count": 45
  },
  {
   "cell_type": "code",
   "metadata": {
    "ExecuteTime": {
     "end_time": "2024-08-14T10:11:20.088893Z",
     "start_time": "2024-08-14T10:11:20.085400Z"
    }
   },
   "source": [
    "def readJson(filePathImport):\n",
    "    #Read file in\n",
    "    with open(filePathImport) as json_file:\n",
    "        job_json = json.load(json_file)\n",
    "        return job_json"
   ],
   "outputs": [],
   "execution_count": 46
  },
  {
   "cell_type": "code",
   "metadata": {
    "ExecuteTime": {
     "end_time": "2024-08-14T10:11:20.273250Z",
     "start_time": "2024-08-14T10:11:20.269676Z"
    }
   },
   "source": [
    "def writeJson(filePathExport, jsonFile):\n",
    "    with open(filePathExport, 'w', encoding='utf-8') as f:\n",
    "        json.dump(jsonFile, f, ensure_ascii=False, indent=4)"
   ],
   "outputs": [],
   "execution_count": 47
  },
  {
   "cell_type": "code",
   "metadata": {
    "ExecuteTime": {
     "end_time": "2024-08-14T10:11:20.373670Z",
     "start_time": "2024-08-14T10:11:20.369918Z"
    }
   },
   "source": [
    "def createOutputFolderIfNotExists(path):\n",
    "    isExist = os.path.exists(path)\n",
    "    if isExist:\n",
    "        shutil.rmtree(path)\n",
    "        os.makedirs(path)\n",
    "    if not isExist:\n",
    "       # Create a new directory because it does not exist\n",
    "       os.makedirs(path)\n",
    "    print(\"The new directory is created!\")"
   ],
   "outputs": [],
   "execution_count": 48
  },
  {
   "cell_type": "code",
   "metadata": {
    "ExecuteTime": {
     "end_time": "2024-08-14T10:11:20.510143Z",
     "start_time": "2024-08-14T10:11:20.505043Z"
    }
   },
   "source": [
    "def createAeJob(filePath, assesmentCriteria, scenario):\n",
    "    \n",
    "    input_path_full = INPUT_PATH + \"/\" + scenario + '/' + filePath\n",
    "    output_path_full = OUTPUT_PATH + '/' + scenario + '/' + CURRENT_DATASET + \"_\" + scenario + \"_\" + filePath\n",
    "    \n",
    "    try:\n",
    "        uld = readJson(input_path_full)\n",
    "    except:\n",
    "        print(\"Could not read file! \" + input_path_full)\n",
    "        return\n",
    "    \n",
    "    \n",
    "    aeJob = {\n",
    "        'ulds':[uld],\n",
    "        'assessmentCriteria':assesmentCriteria,\n",
    "        'label': CURRENT_DATASET + \"_\" + scenario + \"_\" + filePath\n",
    "    }\n",
    "    \n",
    "    writeJson(output_path_full, aeJob)"
   ],
   "outputs": [],
   "execution_count": 49
  },
  {
   "cell_type": "code",
   "metadata": {
    "ExecuteTime": {
     "end_time": "2024-08-14T10:11:20.991565Z",
     "start_time": "2024-08-14T10:11:20.987244Z"
    }
   },
   "source": [
    "from tqdm import tqdm\n",
    "\n",
    "def makeJob(scenario):\n",
    "    assesmentCriteria = readJson(\"./01_masterdata/2_approaches/AssesmentCriteria.json\")\n",
    "    createOutputFolderIfNotExists(OUTPUT_PATH + \"/\" + scenario)\n",
    "    \n",
    "    for f in tqdm(os.listdir(INPUT_PATH + \"/\" + scenario)):\n",
    "        createAeJob(f, assesmentCriteria, scenario)"
   ],
   "outputs": [],
   "execution_count": 50
  },
  {
   "cell_type": "code",
   "metadata": {
    "ExecuteTime": {
     "end_time": "2024-08-14T10:11:37.592903Z",
     "start_time": "2024-08-14T10:11:21.285190Z"
    }
   },
   "source": [
    "makeJob('Ulds_scenario_1')"
   ],
   "outputs": [
    {
     "name": "stdout",
     "output_type": "stream",
     "text": [
      "The new directory is created!\n"
     ]
    },
    {
     "name": "stderr",
     "output_type": "stream",
     "text": [
      "100%|██████████| 9689/9689 [00:16<00:00, 594.89it/s]\n"
     ]
    }
   ],
   "execution_count": 51
  },
  {
   "cell_type": "code",
   "metadata": {
    "ExecuteTime": {
     "end_time": "2024-08-14T10:12:08.673293Z",
     "start_time": "2024-08-14T10:11:37.595770Z"
    }
   },
   "source": [
    "makeJob('Ulds_scenario_2a')"
   ],
   "outputs": [
    {
     "name": "stdout",
     "output_type": "stream",
     "text": [
      "The new directory is created!\n"
     ]
    },
    {
     "name": "stderr",
     "output_type": "stream",
     "text": [
      "100%|██████████| 9689/9689 [00:31<00:00, 311.95it/s]\n"
     ]
    }
   ],
   "execution_count": 52
  },
  {
   "cell_type": "code",
   "metadata": {
    "ExecuteTime": {
     "end_time": "2024-08-14T10:12:32.479835Z",
     "start_time": "2024-08-14T10:12:08.674728Z"
    }
   },
   "source": [
    "makeJob('Ulds_scenario_2b')"
   ],
   "outputs": [
    {
     "name": "stdout",
     "output_type": "stream",
     "text": [
      "The new directory is created!\n"
     ]
    },
    {
     "name": "stderr",
     "output_type": "stream",
     "text": [
      "100%|██████████| 9689/9689 [00:23<00:00, 407.34it/s]\n"
     ]
    }
   ],
   "execution_count": 53
  },
  {
   "cell_type": "code",
   "execution_count": null,
   "metadata": {},
   "outputs": [],
   "source": []
  }
 ],
 "metadata": {
  "kernelspec": {
   "display_name": "Python 3 (ipykernel)",
   "language": "python",
   "name": "python3"
  },
  "language_info": {
   "codemirror_mode": {
    "name": "ipython",
    "version": 3
   },
   "file_extension": ".py",
   "mimetype": "text/x-python",
   "name": "python",
   "nbconvert_exporter": "python",
   "pygments_lexer": "ipython3",
   "version": "3.9.16"
  }
 },
 "nbformat": 4,
 "nbformat_minor": 4
}
