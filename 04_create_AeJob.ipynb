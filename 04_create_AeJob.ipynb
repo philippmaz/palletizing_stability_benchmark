{
 "cells": [
  {
   "cell_type": "code",
   "metadata": {
    "ExecuteTime": {
     "end_time": "2024-08-14T11:57:46.768105Z",
     "start_time": "2024-08-14T11:57:46.764469Z"
    }
   },
   "source": [
    "import json\n",
    "import os\n",
    "import shutil\n",
    "\n",
    "DATASET_1 = 'Data_1'\n",
    "DATASET_2 = 'Data_2'\n",
    "\n",
    "CURRENT_DATASET = DATASET_2\n",
    "\n",
    "PATH = './Data/' + CURRENT_DATASET\n",
    "INPUT_PATH = PATH + '/1_AeULDs'\n",
    "OUTPUT_PATH = PATH + '/2_AeJobs'"
   ],
   "outputs": [],
   "execution_count": 69
  },
  {
   "cell_type": "code",
   "metadata": {
    "ExecuteTime": {
     "end_time": "2024-08-14T11:57:46.773626Z",
     "start_time": "2024-08-14T11:57:46.770269Z"
    }
   },
   "source": [
    "def readJson(filePathImport):\n",
    "    #Read file in\n",
    "    with open(filePathImport) as json_file:\n",
    "        job_json = json.load(json_file)\n",
    "        return job_json"
   ],
   "outputs": [],
   "execution_count": 70
  },
  {
   "cell_type": "code",
   "metadata": {
    "ExecuteTime": {
     "end_time": "2024-08-14T11:57:46.778579Z",
     "start_time": "2024-08-14T11:57:46.775170Z"
    }
   },
   "source": [
    "def writeJson(filePathExport, jsonFile):\n",
    "    with open(filePathExport, 'w', encoding='utf-8') as f:\n",
    "        json.dump(jsonFile, f, ensure_ascii=False, indent=4)"
   ],
   "outputs": [],
   "execution_count": 71
  },
  {
   "cell_type": "code",
   "metadata": {
    "ExecuteTime": {
     "end_time": "2024-08-14T11:57:46.784847Z",
     "start_time": "2024-08-14T11:57:46.781124Z"
    }
   },
   "source": [
    "def createOutputFolderIfNotExists(path):\n",
    "    isExist = os.path.exists(path)\n",
    "    if isExist:\n",
    "        shutil.rmtree(path)\n",
    "        os.makedirs(path)\n",
    "    if not isExist:\n",
    "       # Create a new directory because it does not exist\n",
    "       os.makedirs(path)\n",
    "    print(\"The new directory is created!\")"
   ],
   "outputs": [],
   "execution_count": 72
  },
  {
   "cell_type": "code",
   "metadata": {
    "ExecuteTime": {
     "end_time": "2024-08-14T11:57:46.790769Z",
     "start_time": "2024-08-14T11:57:46.786370Z"
    }
   },
   "source": [
    "def createAeJob(filePath, assesmentCriteria, scenario):\n",
    "    \n",
    "    input_path_full = INPUT_PATH + \"/\" + scenario + '/' + filePath\n",
    "    output_path_full = OUTPUT_PATH + '/' + scenario + '/' + CURRENT_DATASET + \"_\" + scenario + \"_\" + filePath\n",
    "    \n",
    "    try:\n",
    "        uld = readJson(input_path_full)\n",
    "    except:\n",
    "        print(\"Could not read file! \" + input_path_full)\n",
    "        return\n",
    "    \n",
    "    \n",
    "    aeJob = {\n",
    "        'ulds':[uld],\n",
    "        'assessmentCriteria':assesmentCriteria,\n",
    "        'label': CURRENT_DATASET + \"_\" + scenario + \"_\" + filePath\n",
    "    }\n",
    "    \n",
    "    writeJson(output_path_full, aeJob)"
   ],
   "outputs": [],
   "execution_count": 73
  },
  {
   "cell_type": "code",
   "metadata": {
    "ExecuteTime": {
     "end_time": "2024-08-14T11:57:46.795762Z",
     "start_time": "2024-08-14T11:57:46.792295Z"
    }
   },
   "source": [
    "from tqdm import tqdm\n",
    "\n",
    "def makeJob(scenario):\n",
    "    assesmentCriteria = readJson(\"./01_masterdata/2_approaches/AssesmentCriteria.json\")\n",
    "    createOutputFolderIfNotExists(OUTPUT_PATH + \"/\" + scenario)\n",
    "    \n",
    "    for f in tqdm(os.listdir(INPUT_PATH + \"/\" + scenario)):\n",
    "        createAeJob(f, assesmentCriteria, scenario)"
   ],
   "outputs": [],
   "execution_count": 74
  },
  {
   "cell_type": "code",
   "metadata": {
    "ExecuteTime": {
     "end_time": "2024-08-14T11:58:05.927923Z",
     "start_time": "2024-08-14T11:57:46.797241Z"
    }
   },
   "source": [
    "makeJob('Ulds_scenario_1')"
   ],
   "outputs": [
    {
     "name": "stdout",
     "output_type": "stream",
     "text": [
      "The new directory is created!\n"
     ]
    },
    {
     "name": "stderr",
     "output_type": "stream",
     "text": [
      "100%|██████████| 9689/9689 [00:17<00:00, 562.18it/s]\n"
     ]
    }
   ],
   "execution_count": 75
  },
  {
   "cell_type": "code",
   "metadata": {
    "ExecuteTime": {
     "end_time": "2024-08-14T11:58:41.570267Z",
     "start_time": "2024-08-14T11:58:05.930166Z"
    }
   },
   "source": [
    "makeJob('Ulds_scenario_2a')"
   ],
   "outputs": [
    {
     "name": "stdout",
     "output_type": "stream",
     "text": [
      "The new directory is created!\n"
     ]
    },
    {
     "name": "stderr",
     "output_type": "stream",
     "text": [
      "100%|██████████| 9689/9689 [00:34<00:00, 282.79it/s]\n"
     ]
    }
   ],
   "execution_count": 76
  },
  {
   "cell_type": "code",
   "metadata": {
    "ExecuteTime": {
     "end_time": "2024-08-14T11:59:37.043306Z",
     "start_time": "2024-08-14T11:58:41.579724Z"
    }
   },
   "source": [
    "makeJob('Ulds_scenario_2b')"
   ],
   "outputs": [
    {
     "name": "stdout",
     "output_type": "stream",
     "text": [
      "The new directory is created!\n"
     ]
    },
    {
     "name": "stderr",
     "output_type": "stream",
     "text": [
      "100%|██████████| 9689/9689 [00:52<00:00, 182.98it/s]\n"
     ]
    }
   ],
   "execution_count": 77
  },
  {
   "cell_type": "code",
   "metadata": {
    "ExecuteTime": {
     "end_time": "2024-08-14T11:59:37.052822Z",
     "start_time": "2024-08-14T11:59:37.047538Z"
    }
   },
   "source": [],
   "outputs": [],
   "execution_count": 77
  }
 ],
 "metadata": {
  "kernelspec": {
   "display_name": "Python 3 (ipykernel)",
   "language": "python",
   "name": "python3"
  },
  "language_info": {
   "codemirror_mode": {
    "name": "ipython",
    "version": 3
   },
   "file_extension": ".py",
   "mimetype": "text/x-python",
   "name": "python",
   "nbconvert_exporter": "python",
   "pygments_lexer": "ipython3",
   "version": "3.9.16"
  }
 },
 "nbformat": 4,
 "nbformat_minor": 4
}
