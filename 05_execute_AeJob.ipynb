{
 "cells": [
  {
   "cell_type": "code",
   "metadata": {
    "ExecuteTime": {
     "end_time": "2024-08-14T11:59:42.278147Z",
     "start_time": "2024-08-14T11:59:42.269971Z"
    }
   },
   "source": [
    "#imports\n",
    "import requests\n",
    "import json\n",
    "import os\n",
    "import shutil\n",
    "\n",
    "import config\n",
    "\n",
    "DATASET_1 = 'Data_1'\n",
    "DATASET_2 = 'Data_2'\n",
    "CURRENT_DATASET = DATASET_2\n",
    "SCENARIOS = ['Ulds_scenario_1', 'Ulds_scenario_2a', 'Ulds_scenario_2b']\n",
    "\n",
    "PATH = './Data/' + CURRENT_DATASET\n",
    "INPUT_PATH = PATH + '/2_AeJobs'\n",
    "OUTPUT_PATH = PATH + '/3_AeResults'\n",
    "\n",
    "URL = config.BACKEND_SERVER_URL"
   ],
   "execution_count": 66,
   "outputs": []
  },
  {
   "cell_type": "code",
   "metadata": {
    "ExecuteTime": {
     "end_time": "2024-08-14T11:59:42.643730Z",
     "start_time": "2024-08-14T11:59:42.638677Z"
    }
   },
   "source": [
    "def readJson(filePathImport):\n",
    "    #Read file in\n",
    "    with open(filePathImport) as json_file:\n",
    "        job_json = json.load(json_file)\n",
    "        return job_json"
   ],
   "execution_count": 67,
   "outputs": []
  },
  {
   "cell_type": "code",
   "metadata": {
    "ExecuteTime": {
     "end_time": "2024-08-14T11:59:42.824664Z",
     "start_time": "2024-08-14T11:59:42.818983Z"
    }
   },
   "source": [
    "def writeJson(filePathExport, jsonFile):\n",
    "    with open(filePathExport, 'w', encoding='utf-8') as f:\n",
    "        json.dump(jsonFile, f, ensure_ascii=False, indent=4)"
   ],
   "execution_count": 68,
   "outputs": []
  },
  {
   "cell_type": "code",
   "metadata": {
    "ExecuteTime": {
     "end_time": "2024-08-14T11:59:42.991904Z",
     "start_time": "2024-08-14T11:59:42.986008Z"
    }
   },
   "source": [
    "def createOutputFolderIfNotExists(path):\n",
    "    isExist = os.path.exists(path)\n",
    "    if isExist:\n",
    "        shutil.rmtree(path)\n",
    "        os.makedirs(path)\n",
    "    if not isExist:\n",
    "       # Create a new directory because it does not exist\n",
    "       os.makedirs(path)\n",
    "    print(\"The new directory is created!\")"
   ],
   "execution_count": 69,
   "outputs": []
  },
  {
   "cell_type": "code",
   "source": [
    "def read_concatenate_jobs(batch, input_path: str):\n",
    "    jobs = []\n",
    "    for f in batch:\n",
    "        input_path_full = input_path  + '/' + f\n",
    "        try:\n",
    "            job = readJson(input_path_full)\n",
    "            jobs.append(job)\n",
    "        except:\n",
    "            print(\"Could not read file! \" + input_path_full)\n",
    "            return jobs\n",
    "    return jobs"
   ],
   "metadata": {
    "collapsed": false,
    "ExecuteTime": {
     "end_time": "2024-08-14T11:59:43.182451Z",
     "start_time": "2024-08-14T11:59:43.175386Z"
    }
   },
   "execution_count": 70,
   "outputs": []
  },
  {
   "cell_type": "code",
   "source": [
    "def _store_results(r, output_path: str):\n",
    "    assessment_results = r.json()\n",
    "    for assessment_result in assessment_results:\n",
    "        output_path_full = output_path + '/' + assessment_result[\"label\"]\n",
    "        writeJson(output_path_full, assessment_result)"
   ],
   "metadata": {
    "collapsed": false,
    "ExecuteTime": {
     "end_time": "2024-08-14T11:59:43.556580Z",
     "start_time": "2024-08-14T11:59:43.550268Z"
    }
   },
   "execution_count": 71,
   "outputs": []
  },
  {
   "cell_type": "code",
   "source": [
    "from tqdm import tqdm\n",
    "\n",
    "def execute_jobs_parallel(batch_size: int, input_path: str, output_path:str):\n",
    "    createOutputFolderIfNotExists(output_path)\n",
    "    file_names = list(fname for fname in os.listdir(input_path) if fname.endswith('.json'))\n",
    "\n",
    "    l_index = 0\n",
    "    r_index = batch_size\n",
    "    current_batch = file_names[l_index:r_index]\n",
    "\n",
    "    pbar = tqdm(total=len(file_names))\n",
    "\n",
    "    while current_batch:\n",
    "        jobs = read_concatenate_jobs(current_batch, input_path)\n",
    "\n",
    "        r = requests.post(URL, json=jobs)\n",
    "\n",
    "        if r.ok:\n",
    "            _store_results(r, output_path)\n",
    "        else:\n",
    "            print(\"Failure \" + r.text)\n",
    "\n",
    "        l_index, r_index = r_index, r_index + batch_size\n",
    "        current_batch = file_names[l_index:r_index]\n",
    "        pbar.update(batch_size)\n",
    "    pbar.close()"
   ],
   "metadata": {
    "collapsed": false,
    "ExecuteTime": {
     "end_time": "2024-08-14T11:59:43.690803Z",
     "start_time": "2024-08-14T11:59:43.678097Z"
    }
   },
   "execution_count": 72,
   "outputs": []
  },
  {
   "cell_type": "code",
   "metadata": {
    "ExecuteTime": {
     "end_time": "2024-08-14T11:59:44.322801Z",
     "start_time": "2024-08-14T11:59:44.315872Z"
    }
   },
   "source": [
    "def executeAeJob(file_path_input, file_path_output):\n",
    "    aeJob = 0\n",
    "    try:\n",
    "        aeJob = readJson(file_path_input)\n",
    "    except:\n",
    "        print(\"Could not read file! \" + file_path_input)\n",
    "        return\n",
    "    \n",
    "    r = requests.post(URL, json=aeJob)\n",
    "    \n",
    "    if r.ok:\n",
    "        writeJson(file_path_output, r.json())\n",
    "    else:\n",
    "        print(\"Failure \" + r.text)"
   ],
   "execution_count": 73,
   "outputs": []
  },
  {
   "cell_type": "code",
   "metadata": {
    "ExecuteTime": {
     "end_time": "2024-08-14T12:00:23.449205Z",
     "start_time": "2024-08-14T11:59:44.845908Z"
    }
   },
   "source": [
    "for scenario in SCENARIOS:\n",
    "    execute_jobs_parallel(40, INPUT_PATH + '/' + scenario, OUTPUT_PATH + '/' + scenario)"
   ],
   "execution_count": 74,
   "outputs": []
  },
  {
   "cell_type": "code",
   "execution_count": null,
   "metadata": {},
   "source": [],
   "outputs": []
  }
 ],
 "metadata": {
  "kernelspec": {
   "display_name": "Python 3 (ipykernel)",
   "language": "python",
   "name": "python3"
  },
  "language_info": {
   "codemirror_mode": {
    "name": "ipython",
    "version": 3
   },
   "file_extension": ".py",
   "mimetype": "text/x-python",
   "name": "python",
   "nbconvert_exporter": "python",
   "pygments_lexer": "ipython3",
   "version": "3.9.16"
  }
 },
 "nbformat": 4,
 "nbformat_minor": 4
}
