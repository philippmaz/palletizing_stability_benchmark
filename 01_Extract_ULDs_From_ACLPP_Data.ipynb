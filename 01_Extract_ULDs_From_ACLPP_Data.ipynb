{
 "cells": [
  {
   "cell_type": "code",
   "metadata": {
    "pycharm": {
     "name": "#%%\n"
    },
    "ExecuteTime": {
     "end_time": "2024-08-14T08:29:10.988160Z",
     "start_time": "2024-08-14T08:29:10.985331Z"
    }
   },
   "source": [
    "import yaml\n",
    "import json\n",
    "import os\n",
    "# see: https://github.com/fbrandt/ACLPP/blob/master/doc/format.md\n",
    "# Put the yaml files in the input directory (scenario: base)\n",
    "\n",
    "\n",
    "INPUT_PATH = './Data/Data_1/0_Input'\n",
    "OUTPUT_PATH = './Data/Data_1/1_AeULDs/Ulds_scenario_1'"
   ],
   "outputs": [],
   "execution_count": 41
  },
  {
   "cell_type": "code",
   "metadata": {
    "ExecuteTime": {
     "end_time": "2024-08-14T08:29:11.131514Z",
     "start_time": "2024-08-14T08:29:11.127772Z"
    }
   },
   "source": [
    "def createOutputFolderIfNotExists():\n",
    "    isExist = os.path.exists(OUTPUT_PATH)\n",
    "    if not isExist:\n",
    "       # Create a new directory because it does not exist\n",
    "       os.makedirs(OUTPUT_PATH)\n",
    "       print(\"The new directory is created!\")"
   ],
   "outputs": [],
   "execution_count": 42
  },
  {
   "cell_type": "code",
   "metadata": {
    "pycharm": {
     "name": "#%%\n"
    },
    "ExecuteTime": {
     "end_time": "2024-08-14T08:29:11.290698Z",
     "start_time": "2024-08-14T08:29:11.287243Z"
    }
   },
   "source": [
    "def readYaml(filePathImport):\n",
    "    with open(filePathImport, \"r\") as stream:\n",
    "        try:\n",
    "            return yaml.safe_load(stream)\n",
    "        except yaml.YAMLError as exc:\n",
    "            print(exc)"
   ],
   "outputs": [],
   "execution_count": 43
  },
  {
   "cell_type": "code",
   "metadata": {
    "pycharm": {
     "name": "#%%\n"
    },
    "ExecuteTime": {
     "end_time": "2024-08-14T08:29:11.416007Z",
     "start_time": "2024-08-14T08:29:11.413151Z"
    }
   },
   "source": [
    "def readJson(filePathImport):\n",
    "    #Read file in\n",
    "    with open(filePathImport) as json_file:\n",
    "        json_file = json.load(json_file)\n",
    "        return json_file"
   ],
   "outputs": [],
   "execution_count": 44
  },
  {
   "cell_type": "code",
   "metadata": {
    "pycharm": {
     "name": "#%%\n"
    },
    "ExecuteTime": {
     "end_time": "2024-08-14T08:29:11.551622Z",
     "start_time": "2024-08-14T08:29:11.548544Z"
    }
   },
   "source": [
    "def writeJson(filePathExport, jsonFile):\n",
    "    with open(filePathExport, 'w', encoding='utf-8') as f:\n",
    "        json.dump(jsonFile, f, ensure_ascii=False, indent=4)"
   ],
   "outputs": [],
   "execution_count": 45
  },
  {
   "cell_type": "code",
   "metadata": {
    "pycharm": {
     "name": "#%%\n"
    },
    "ExecuteTime": {
     "end_time": "2024-08-14T08:29:11.897008Z",
     "start_time": "2024-08-14T08:29:11.893398Z"
    }
   },
   "source": [
    "def createItemLabels(baseLabel, labelDic):\n",
    "    appendix = 0\n",
    "    if baseLabel in labelDic.keys():\n",
    "        appendix = labelDic[baseLabel] + 1\n",
    "    \n",
    "    labelDic[baseLabel] = appendix\n",
    "    \n",
    "    return baseLabel + \"-\" + str(appendix)"
   ],
   "outputs": [],
   "execution_count": 46
  },
  {
   "cell_type": "code",
   "metadata": {
    "pycharm": {
     "name": "#%%\n"
    },
    "ExecuteTime": {
     "end_time": "2024-08-14T08:29:12.296859Z",
     "start_time": "2024-08-14T08:29:12.292948Z"
    }
   },
   "source": [
    "def getWeightFromShipment(sourceItem, shipments):\n",
    "    shipLabel = sourceItem['shipment']\n",
    "    piece = sourceItem['piece']\n",
    "    if shipLabel in shipments.keys():\n",
    "        if piece in shipments[shipLabel]['pieces'].keys():\n",
    "            return shipments[shipLabel]['pieces'][piece]['weight']"
   ],
   "outputs": [],
   "execution_count": 47
  },
  {
   "cell_type": "code",
   "metadata": {
    "pycharm": {
     "name": "#%%\n"
    },
    "ExecuteTime": {
     "end_time": "2024-08-14T08:29:12.452265Z",
     "start_time": "2024-08-14T08:29:12.446772Z"
    }
   },
   "source": [
    "def getRotationAxes(sourceItem, shipments):\n",
    "    shipLabel = sourceItem['shipment']\n",
    "    piece = sourceItem['piece']\n",
    "    \n",
    "    # rotation axes is unsed\n",
    "    switcher = {\n",
    "        1: \"NONE\",\n",
    "        2: \"X\",\n",
    "        4: \"Y\",\n",
    "        5: \"Y\",\n",
    "        8: \"Z\",\n",
    "        16: \"XZ\",\n",
    "        32: \"YZ\",\n",
    "        63: \"XYZ\",\n",
    "    }\n",
    "    \n",
    "    if shipLabel in shipments.keys():\n",
    "        if piece in shipments[shipLabel]['pieces'].keys():\n",
    "            return switcher.get(shipments[shipLabel]['pieces'][piece]['allowed_rotations'], 'NONE')"
   ],
   "outputs": [],
   "execution_count": 48
  },
  {
   "cell_type": "code",
   "metadata": {
    "pycharm": {
     "name": "#%%\n"
    },
    "ExecuteTime": {
     "end_time": "2024-08-14T08:29:12.919025Z",
     "start_time": "2024-08-14T08:29:12.913758Z"
    }
   },
   "source": [
    "def getLoadCapacity(sourceItem, shipments):\n",
    "    shipLabel = sourceItem['shipment']\n",
    "    piece = sourceItem['piece']\n",
    "    if shipLabel in shipments.keys():\n",
    "        if piece in shipments[shipLabel]['pieces'].keys():\n",
    "            return shipments[shipLabel]['pieces'][piece]['stack_height'] * sourceItem['lat'] * sourceItem['lng'] \n",
    "    "
   ],
   "outputs": [],
   "execution_count": 49
  },
  {
   "cell_type": "code",
   "metadata": {
    "pycharm": {
     "name": "#%%\n"
    },
    "ExecuteTime": {
     "end_time": "2024-08-14T08:29:13.114434Z",
     "start_time": "2024-08-14T08:29:13.108769Z"
    }
   },
   "source": [
    "def enrichItem(sourceItem, item, sequence, labelDic, shipments):\n",
    "    item['itemLabel'] = createItemLabels(sourceItem['piece'], labelDic)\n",
    "    shape = {\n",
    "        'shapeType' : 'Box',\n",
    "        # Lat according to Brandt is the width in our system\n",
    "        'width': sourceItem['lat'],\n",
    "        'height': sourceItem['height'],\n",
    "        'depth': sourceItem['lng'],\n",
    "        'rotationState': 0,\n",
    "        'id': 2025, # unused\n",
    "        'volume': sourceItem['lat'] * sourceItem['height'] * sourceItem['lng']\n",
    "    }\n",
    "    item['shape'] = shape\n",
    "    item['x'] = sourceItem['start_lat']\n",
    "    item['z'] = sourceItem['start_lng']\n",
    "    item['y'] = sourceItem['start_height']\n",
    "    item['shipmentLabel'] = sourceItem['shipment']\n",
    "    \n",
    "    if item['shipmentLabel'] == \"\":\n",
    "        print(item['itemLabel'])\n",
    "        raise(False)\n",
    "    \n",
    "    item['sequence'] = sequence\n",
    "    item['loadCapacity'] = getLoadCapacity(sourceItem, shipments)\n",
    "    item['rotationAxes'] = getRotationAxes(sourceItem, shipments)\n",
    "    item['weight'] = getWeightFromShipment(sourceItem, shipments)\n",
    "    \n",
    "    return item"
   ],
   "outputs": [],
   "execution_count": 50
  },
  {
   "cell_type": "code",
   "metadata": {
    "pycharm": {
     "name": "#%%\n"
    },
    "ExecuteTime": {
     "end_time": "2024-08-14T08:29:13.607763Z",
     "start_time": "2024-08-14T08:29:13.602672Z"
    }
   },
   "source": [
    "def readUldProperties(sourceUldType):\n",
    "    mapping = readJson(\"./01_masterdata/mapping_uld_properties.json\")\n",
    "    if sourceUldType in mapping.keys():\n",
    "        uldTypeName = mapping[sourceUldType]\n",
    "        return readJson(\"./01_masterdata/\" + uldTypeName + \".json\") \n",
    "    else:\n",
    "        \n",
    "        sourceUldTypeTrim = sourceUldType[:sourceUldType.rfind(\"_\")]\n",
    "        \n",
    "        if sourceUldTypeTrim in mapping.keys():\n",
    "            uldTypeName = mapping[sourceUldTypeTrim]\n",
    "            return readJson(\"./01_masterdata/\" + uldTypeName + \".json\")\n",
    "        \n",
    "        else:\n",
    "            print(sourceUldType)\n"
   ],
   "outputs": [],
   "execution_count": 51
  },
  {
   "cell_type": "code",
   "metadata": {
    "pycharm": {
     "name": "#%%\n"
    },
    "scrolled": true,
    "ExecuteTime": {
     "end_time": "2024-08-14T08:29:13.877402Z",
     "start_time": "2024-08-14T08:29:13.873174Z"
    }
   },
   "source": [
    "def createULD(sourceUld, labelDic, shipments):\n",
    "    newUld = {\"placedItems\":[], \"id\":1}\n",
    "    newUld[\"properties\"] = readUldProperties(sourceUld[\"uld_type\"])[\"properties\"]\n",
    "    i = 0\n",
    "    for sourceItem in sourceUld['loaded']:\n",
    "        item = readJson('./01_masterdata/placeholders_placed_item.json')\n",
    "        item = enrichItem(sourceItem, item, i, labelDic, shipments)\n",
    "        i = i + 1\n",
    "        newUld['placedItems'].append(item)\n",
    "    return newUld"
   ],
   "outputs": [],
   "execution_count": 52
  },
  {
   "cell_type": "code",
   "metadata": {
    "pycharm": {
     "name": "#%%\n"
    },
    "ExecuteTime": {
     "end_time": "2024-08-14T08:29:14.415443Z",
     "start_time": "2024-08-14T08:29:14.411370Z"
    }
   },
   "source": [
    "## run through flights\n",
    "def transformFile(sourceFile):\n",
    "    sourceFile = readYaml(sourceFile)\n",
    "    for flightKey, segment in sourceFile['segments'].items():\n",
    "        shipments = segment['shipments']\n",
    "        for uldKey, sourceUld in segment['built_ulds'].items():\n",
    "            path_output_full = OUTPUT_PATH + '/' + flightKey + \"_\" + uldKey + \".json\"\n",
    "            labelDic = {}\n",
    "            newUld = createULD(sourceUld, labelDic, shipments)\n",
    "            writeJson(path_output_full, newUld)"
   ],
   "outputs": [],
   "execution_count": 53
  },
  {
   "cell_type": "code",
   "metadata": {
    "pycharm": {
     "name": "#%%\n"
    },
    "scrolled": true,
    "ExecuteTime": {
     "end_time": "2024-08-14T08:29:14.584240Z",
     "start_time": "2024-08-14T08:29:14.580933Z"
    }
   },
   "source": [
    "def execute():\n",
    "    createOutputFolderIfNotExists()\n",
    "\n",
    "    i=0\n",
    "    for f in os.listdir(INPUT_PATH):\n",
    "        transformFile(INPUT_PATH + \"/\" + f)\n",
    "        print(i)\n",
    "        i=i+1"
   ],
   "outputs": [],
   "execution_count": 54
  },
  {
   "cell_type": "code",
   "metadata": {
    "ExecuteTime": {
     "end_time": "2024-08-14T08:29:54.393551Z",
     "start_time": "2024-08-14T08:29:14.880553Z"
    }
   },
   "source": [
    "execute()"
   ],
   "outputs": [
    {
     "name": "stdout",
     "output_type": "stream",
     "text": [
      "0\n",
      "1\n",
      "2\n",
      "3\n",
      "4\n",
      "5\n",
      "6\n",
      "7\n",
      "8\n",
      "9\n",
      "10\n",
      "11\n",
      "12\n",
      "13\n",
      "14\n",
      "15\n",
      "16\n",
      "17\n",
      "18\n",
      "19\n",
      "20\n",
      "21\n",
      "22\n",
      "23\n",
      "24\n",
      "25\n",
      "26\n",
      "27\n",
      "28\n",
      "29\n",
      "30\n",
      "31\n",
      "32\n",
      "33\n",
      "34\n",
      "35\n",
      "36\n",
      "37\n",
      "38\n",
      "39\n",
      "40\n",
      "41\n",
      "42\n",
      "43\n",
      "44\n",
      "45\n",
      "46\n",
      "47\n",
      "48\n",
      "49\n",
      "50\n",
      "51\n",
      "52\n",
      "53\n",
      "54\n",
      "55\n",
      "56\n",
      "57\n",
      "58\n",
      "59\n",
      "60\n",
      "61\n",
      "62\n",
      "63\n",
      "64\n",
      "65\n",
      "66\n",
      "67\n",
      "68\n",
      "69\n",
      "70\n",
      "71\n",
      "72\n",
      "73\n",
      "74\n",
      "75\n"
     ]
    }
   ],
   "execution_count": 55
  },
  {
   "cell_type": "code",
   "execution_count": null,
   "metadata": {},
   "outputs": [],
   "source": []
  }
 ],
 "metadata": {
  "kernelspec": {
   "display_name": "Python 3 (ipykernel)",
   "language": "python",
   "name": "python3"
  },
  "language_info": {
   "codemirror_mode": {
    "name": "ipython",
    "version": 3
   },
   "file_extension": ".py",
   "mimetype": "text/x-python",
   "name": "python",
   "nbconvert_exporter": "python",
   "pygments_lexer": "ipython3",
   "version": "3.9.16"
  }
 },
 "nbformat": 4,
 "nbformat_minor": 4
}
